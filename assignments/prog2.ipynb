{
 "cells": [
  {
   "cell_type": "markdown",
   "id": "5589c806-3fe0-40b3-a6df-e8f86bdd746e",
   "metadata": {},
   "source": [
    "# Programming Assignment 2"
   ]
  },
  {
   "cell_type": "code",
   "execution_count": null,
   "id": "4efe6b17-7e22-4325-9c3f-5e1ee4ce0094",
   "metadata": {},
   "outputs": [],
   "source": [
    "# Import NumPy as it will be needed below\n",
    "import numpy as np"
   ]
  },
  {
   "cell_type": "markdown",
   "id": "f8b48020-fec5-4162-aac9-481b751fd027",
   "metadata": {},
   "source": [
    "## 1. Indexing\n",
    "\n",
    "This problem develops experience with indexing. Start with the string `string = \"ABCDEFGHIJKLMNOPQRSTUVWXYZ\"`. See string-list-dict.ipynb for the indexing syntax.\n",
    "\n",
    "Write an index expression that extracts each of the following character sequences from `string`. The answer for part 1 is provided as an example\n",
    "1. 'CDE' (answer `string[2:5]`)\n",
    "2. 'D'\n",
    "3. 'Y' (use a positive index)\n",
    "4. 'Y' (use a negative index)\n",
    "5. 'ACEG'\n",
    "6. 'KLMNO'\n",
    "7. 'ZYXWV'\n",
    "8. 'ZXV'\n",
    "9. 'AEIMQUY'"
   ]
  },
  {
   "cell_type": "code",
   "execution_count": null,
   "id": "644c7558-286a-47fc-8e63-ba2ac2b1992a",
   "metadata": {},
   "outputs": [],
   "source": [
    "string = \"ABCDEFGHIJKLMNOPQRSTUVWXYZ\"\n",
    "# Write your code here"
   ]
  },
  {
   "cell_type": "markdown",
   "id": "394c1005-08bf-4978-add3-f8bfbee67533",
   "metadata": {},
   "source": [
    "## 2. Iteration with `for`\n",
    "\n",
    "1. Write a `for` loop that counts how many odd numbers are in the list `l = [10, 27, 55, 22, 19, 21, 34]` and prints the result.\n",
    "1. Adapt a *copy* of your code (don't delete the original) into a function named `count_odd` that counts the number of odd numbers in *any* list provided as an input argument. Make your function return the count and don't print anything within your function."
   ]
  },
  {
   "cell_type": "code",
   "execution_count": null,
   "id": "fb754bca-1362-46a8-ba38-1a5fbaf8ef50",
   "metadata": {},
   "outputs": [],
   "source": [
    "# Write your code for part 1 here"
   ]
  },
  {
   "cell_type": "code",
   "execution_count": null,
   "id": "8fc610b0-ff06-49a0-b5ce-6568cdcd344b",
   "metadata": {},
   "outputs": [],
   "source": [
    "# Write your code for part 2 here"
   ]
  },
  {
   "cell_type": "code",
   "execution_count": null,
   "id": "abbce11b-820a-4689-8129-2f02483b105a",
   "metadata": {},
   "outputs": [],
   "source": [
    "assert count_odd([1]) == 1\n",
    "assert count_odd([2]) == 0\n",
    "assert count_odd([])  == 0\n",
    "assert count_odd([10, 27, 55, 22, 19, 21, 88, 34]) == 4\n",
    "print('Your function passed the tests')"
   ]
  },
  {
   "cell_type": "markdown",
   "id": "10e66bf7-f620-4fd9-bc56-e3498e86a4d8",
   "metadata": {},
   "source": [
    "## 3. Iteration with `while`\n",
    "\n",
    "1. Write a `while` loop that prints all square numbers (i.e. 1, 4, 9, 16, ...) less than a number $n$. Start with $n = 20$ and once your code is working, test other values of $n$.\n",
    "2. Modify a *copy* of your code (don't delete the original) so that it only prints *even* square numbers less than $n$. Hint: use modulo 2 to distinguish even vs. odd numbers."
   ]
  },
  {
   "cell_type": "code",
   "execution_count": null,
   "id": "6ff55afc-b9fd-4c31-a598-ffa4de1af082",
   "metadata": {},
   "outputs": [],
   "source": [
    "# Write your code for part 1 here"
   ]
  },
  {
   "cell_type": "code",
   "execution_count": null,
   "id": "ebfa0e10-1a20-4e0f-8667-c43eda29188e",
   "metadata": {},
   "outputs": [],
   "source": [
    "# Write your code for part 2 here"
   ]
  },
  {
   "cell_type": "markdown",
   "id": "e86ce5a9-8d92-4829-95fa-12f28d708361",
   "metadata": {},
   "source": [
    "## 4. Converting temperature units\n",
    "\n",
    "Write a function that converts temperature input from K, °C, or °F to any other of these units. The relationships are\n",
    "$$T_K = T_C + 273.15$$\n",
    "$$T_F = \\frac{9}{5} T_C + 32$$\n",
    "\n",
    "1. Name your function `convert_T`.\n",
    "2. Your function should have three arguments: input temperature, units of input temperature, units of output temperature. Temperature units can be specified as 'K','C',or 'F'. (Suggested names for the arguments are `T_in`, `Tunit_in`, `Tunit_out`)\n",
    "3. Your function should have one output: the temperature in the units specified in the input.\n",
    "4. Test your code with examples where you know the correct answer.\n",
    "\n",
    "Hint: It may be easiest to convert all input temperatures to C, then convert to the output units."
   ]
  },
  {
   "cell_type": "code",
   "execution_count": null,
   "id": "0685644a-4dc3-4165-ae70-20133106d426",
   "metadata": {},
   "outputs": [],
   "source": [
    "# Write your code here"
   ]
  },
  {
   "cell_type": "code",
   "execution_count": null,
   "id": "0f3ec9fa-72e0-4324-a80f-c8b6773855ac",
   "metadata": {},
   "outputs": [],
   "source": [
    "# Do not change this cell!\n",
    "# Run this cell after writing your function.\n",
    "# If your function is written correctly, you will get message that it passed.\n",
    "# If this cell generates an error, your function has a bug.\n",
    "assert np.isclose( convert_T(0,'C','K'), 273.15,  rtol=1e-8), 'Error converting 0 C -> K'\n",
    "assert np.isclose( convert_T(0,'C','C'), 0.0,     rtol=1e-8), 'Error converting 0 C -> C'\n",
    "assert np.isclose( convert_T(0,'C','F'), 32.0,    rtol=1e-8), 'Error converting 0 C -> F'\n",
    "\n",
    "assert np.isclose( convert_T(25,'C','K'), 298.15, rtol=1e-8), 'Error converting 25 C -> K'\n",
    "assert np.isclose( convert_T(25,'C','C'), 25.0,   rtol=1e-8), 'Error converting 25 C -> C'\n",
    "assert np.isclose( convert_T(25,'C','F'), 77.0,   rtol=1e-8), 'Error converting 25 C -> F'\n",
    "\n",
    "assert np.isclose( convert_T(0,'K','K'), 0.0,       rtol=1e-8), 'Error converting 0 K -> K'\n",
    "assert np.isclose( convert_T(0,'K','C'), -273.15,   rtol=1e-8), 'Error converting 0 K -> C'\n",
    "assert np.isclose( convert_T(0,'K','F'), -459.6699, rtol=1e-6), 'Error converting 0 K -> F'\n",
    "\n",
    "assert np.isclose( convert_T(25,'K','K'), 25.0,       rtol=1e-8), 'Error converting 25 K -> K'\n",
    "assert np.isclose( convert_T(25,'K','C'), -248.15,    rtol=1e-8), 'Error converting 25 K -> C'\n",
    "assert np.isclose( convert_T(25,'K','F'), -414.6699,  rtol=1e-6), 'Error converting 25 K -> F'\n",
    "\n",
    "assert np.isclose( convert_T(0,'F','K'), 255.372,   rtol=1e-6), 'Error converting 0 F -> K'\n",
    "assert np.isclose( convert_T(0,'F','C'), -17.77777, rtol=1e-6), 'Error converting 0 F -> C'\n",
    "assert np.isclose( convert_T(0,'F','F'), 0.0,       rtol=1e-6), 'Error converting 0 F -> F'\n",
    "\n",
    "assert np.isclose( convert_T(25,'F','K'), 269.261,    rtol=1e-6), 'Error converting 25 F -> K'\n",
    "assert np.isclose( convert_T(25,'F','C'), -3.888888,  rtol=1e-6), 'Error converting 25 F -> C'\n",
    "assert np.isclose( convert_T(25,'F','F'), 25.0,       rtol=1e-6), 'Error converting 25 F -> F'\n",
    "\n",
    "print('Your function passed the tests')"
   ]
  },
  {
   "cell_type": "markdown",
   "id": "12ab6890-aa70-439c-b87e-816548a2bae7",
   "metadata": {},
   "source": [
    "## 5. String manipulation\n",
    "\n",
    "Write a function named `mirror` that mirrors its string argument. For example, if the input is 'Python', then the output should be 'PythonnohtyP'. Include a docstring in your function. "
   ]
  },
  {
   "cell_type": "code",
   "execution_count": null,
   "id": "75fab9d5-aa5c-4198-857f-70312b7ae29d",
   "metadata": {},
   "outputs": [],
   "source": [
    "# Write your code here"
   ]
  },
  {
   "cell_type": "code",
   "execution_count": null,
   "id": "612a2037-580f-407a-af45-9a161d057166",
   "metadata": {},
   "outputs": [],
   "source": [
    "# Do not change this cell!\n",
    "# Run this cell after writing your function.\n",
    "# If your function is written correctly, you will get message that it passed.\n",
    "# If this cell generates an error, your function has a bug.\n",
    "assert mirror(\"good\") == \"gooddoog\"\n",
    "assert mirror(\"Python\") == \"PythonnohtyP\"\n",
    "assert mirror(\"\") == \"\"\n",
    "assert mirror(\"a\") == \"aa\"\n",
    "print('Your function passed the tests')"
   ]
  }
 ],
 "metadata": {
  "kernelspec": {
   "display_name": "Python 3 (ipykernel)",
   "language": "python",
   "name": "python3"
  },
  "language_info": {
   "codemirror_mode": {
    "name": "ipython",
    "version": 3
   },
   "file_extension": ".py",
   "mimetype": "text/x-python",
   "name": "python",
   "nbconvert_exporter": "python",
   "pygments_lexer": "ipython3",
   "version": "3.12.7"
  }
 },
 "nbformat": 4,
 "nbformat_minor": 5
}
