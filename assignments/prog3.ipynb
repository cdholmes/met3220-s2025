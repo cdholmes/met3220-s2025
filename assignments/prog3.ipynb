{
 "cells": [
  {
   "cell_type": "markdown",
   "id": "5589c806-3fe0-40b3-a6df-e8f86bdd746e",
   "metadata": {},
   "source": [
    "# Programming Assignment 3"
   ]
  },
  {
   "cell_type": "code",
   "execution_count": null,
   "id": "4efe6b17-7e22-4325-9c3f-5e1ee4ce0094",
   "metadata": {},
   "outputs": [],
   "source": [
    "# Import NumPy as it will be needed below\n",
    "import numpy as np"
   ]
  },
  {
   "cell_type": "markdown",
   "id": "ecb71ff5-0b98-4293-91bc-bd0e5f973811",
   "metadata": {},
   "source": [
    "## General instructions\n",
    "\n",
    "For this assignment and *all future assignments*, your code must include *comments* and all functions that you write must include *docstrings*. The docstrings should describe what a function does, including what its inputs and outputs are, and comments must explain what your code does and how it works. The comments and docstrings will be part of the grading."
   ]
  },
  {
   "cell_type": "markdown",
   "id": "35e9e8e1-deb8-4c62-b4e6-f8670936ca13",
   "metadata": {},
   "source": [
    "## 1. Sum less than $n$\n",
    "\n",
    "Write a function named `sum_up_even` that returns the sum of *even* postive integers less than or equal to an input integer $n$. For example, if $n=4$, then your function should compute $2+4$ and return the result, which is 6. If $n=5$, the result should also be 6. Your function should contain a loop.\n",
    "\n",
    "<details>\n",
    "    <summary>Hint</summary>\n",
    "    * Create a variable named `total` with an initial value of 0 and add to it within the loop.\n",
    "    * Use the result of modulo `%` 2 to distinguish between odd and even numbers.\n",
    "</details>"
   ]
  },
  {
   "cell_type": "code",
   "execution_count": null,
   "id": "be0fc746-415d-49d0-ae26-6287aa8794a9",
   "metadata": {},
   "outputs": [],
   "source": [
    "n = 4\n",
    "# Write your code here"
   ]
  },
  {
   "cell_type": "code",
   "execution_count": null,
   "id": "b4385871-2b8b-414c-b18f-4137f92124f3",
   "metadata": {},
   "outputs": [],
   "source": [
    "# Do not change this cell!\n",
    "# Run this cell after writing your function.\n",
    "# If your function is written correctly, you will get message that it passed.\n",
    "# If this cell generates an error, your function has a bug.\n",
    "assert sum_up_even(4) == 6\n",
    "assert sum_up_even(5) == 6\n",
    "assert sum_up_even(10) == 30\n",
    "assert sum_up_even(100) == 2550\n",
    "assert sum_up_even(101) == 2550\n",
    "print('Your function passed the tests')"
   ]
  },
  {
   "cell_type": "markdown",
   "id": "2c63df79-8419-43b2-a916-44ac14b25226",
   "metadata": {},
   "source": [
    "## 2. Counting digits\n",
    "\n",
    "In this task, you will create a function that counts the number of digits in an integer. For example, 64532 contains 5 digits.\n",
    "\n",
    "It will be useful to recognize that floor division by 10 (i.e. `number // 10`) drops the least significant digit from an integer. For example, `64532 // 10` yields 6453. For positive integers, the number of digits equals the number of times that we can perform floor division by 10 before reaching 0.\n",
    "\n",
    "Follow these steps for designing your code.\n",
    "\n",
    "1. Experiment with floor division by 10 to convince yourself that this works for counting digits. (nothing to turn in for this part)\n",
    "2. Write a loop that counts the number of times that you can perform floor division until the result is zero. (Hints are provided below.)\n",
    "3. Test your code with several positive integers to ensure that it works (e.g. 1, 2, 123, 1234).  \n",
    "4. Encapsulate your digit-counting code in a function. Name the function `count_digits`. The function should take a number as an input parameter and returns the number of digits as an integer.\n",
    "\n",
    "Bonus: (after you have solved other problems in this assignment) Test if your function can count the digits of negative integers. If necessary, make changes so that it works for positive and negative integers.\n",
    "\n",
    "<details>\n",
    "    <summary>Hint</summary>\n",
    "<li> Create a variable named `count` with an initial value of 0.</li>\n",
    "<li> Use a loop to increment `count` each time that you drop a digit.</li>\n",
    "<li> Since we don't know how many times the loop needs to run, this is a good place to use while.</li>\n",
    "</details>"
   ]
  },
  {
   "cell_type": "code",
   "execution_count": null,
   "id": "bbc6ec57-fe5c-4324-a3f6-56f39b27cf9b",
   "metadata": {},
   "outputs": [],
   "source": [
    "number = 64532\n",
    "# Write your code for parts 1-3 here"
   ]
  },
  {
   "cell_type": "code",
   "execution_count": null,
   "id": "a98dcbc6-a31b-4352-9dc0-778410eaf784",
   "metadata": {},
   "outputs": [],
   "source": [
    "# Write your code for part 4 here"
   ]
  },
  {
   "cell_type": "code",
   "execution_count": null,
   "id": "3c41771d-5656-42b8-8884-c9b32e9d5361",
   "metadata": {},
   "outputs": [],
   "source": [
    "assert count_digits(5) == 1\n",
    "assert count_digits(123) == 3\n",
    "assert count_digits(64532) == 5\n",
    "assert count_digits(2000000000) == 10\n",
    "print('Your function passed the tests')"
   ]
  },
  {
   "cell_type": "code",
   "execution_count": null,
   "id": "c860999f-feb8-4803-b471-225cfaa06e61",
   "metadata": {},
   "outputs": [],
   "source": [
    "assert count_digits(-5) == 1\n",
    "assert count_digits(-123) == 3\n",
    "assert count_digits(-64532) == 5\n",
    "assert count_digits(-2000000000) == 10\n",
    "print('Your function passed the tests for the bonus')"
   ]
  },
  {
   "cell_type": "markdown",
   "id": "370b4a04-05a0-4272-a5bb-a23815210e24",
   "metadata": {},
   "source": [
    "## 3. Fibonacci sequence\n",
    "\n",
    "The Fibonacci sequence is a series of numbers that begins 0, 1 and each subsequent number is the sum of the two preceding numbers. The next number is 0+1 = 1, followed by 1+1=2, etc. The sequence thus begins 0,1,1,2,3,5,8...\n",
    "\n",
    "Write a function named `fib` that returns a *list* containing the first $n$ numbers in the Fibonacci sequence.\n",
    "\n",
    "<details>\n",
    "    <summary>Hint</summary>\n",
    "- Your function needs to explicitly specify that the first two Fibonacci numbers are 0 and 1, or `[0,1]` in list form.\n",
    "- Fibonacci numbers 3 and higher should be calculated as specified above.\n",
    "- Concatenate each subsequent Fibonacci to your list, up to the requested number.\n",
    "</details>"
   ]
  },
  {
   "cell_type": "code",
   "execution_count": null,
   "id": "ba082023-1b78-4fa4-ac08-2860c8110f48",
   "metadata": {},
   "outputs": [],
   "source": [
    "# Write your code here"
   ]
  },
  {
   "cell_type": "code",
   "execution_count": null,
   "id": "22eab5c8-b953-49af-a102-9a3e7eda0b52",
   "metadata": {},
   "outputs": [],
   "source": [
    "assert fib(2) == [0, 1]\n",
    "assert fib(10) == [0, 1, 1, 2, 3, 5, 8, 13, 21, 34]\n",
    "assert fib(100)[-1] == 218922995834555169026\n",
    "assert fib(1) == [0]\n",
    "print('Your function passed the tests')"
   ]
  },
  {
   "cell_type": "markdown",
   "id": "fd62f9a4-4258-4a57-8fee-6f5ecd835571",
   "metadata": {},
   "source": [
    "## 4. String manipulation\n",
    "\n",
    "This exercise develops familiarity with string manipulations. The string object methods that you will need to use are all contained in the lecture Notebook on strings and in the textbook. \n",
    "\n",
    "You will analyze the Lewis Carroll poem *Jaberwocky*, which is contained in a string variable named `jaberwocky`. \n",
    "\n",
    "Write code that does the following:\n",
    "1. Split the poem into a list of individual words.\n",
    "2. Count the number of words.\n",
    "3. Using a loop, count the number of words that contain the letter 'y'\n",
    "4. Using an f-string, report your results in the following format: \"Jabberwocky contains N words, of which M contain the letter y, which is X % of the words.\" (N, M, and X should be replaced with your numerical results) Use 1 digit after the decimal point for the percentage X."
   ]
  },
  {
   "cell_type": "code",
   "execution_count": null,
   "id": "ebdc470b-4aee-4c97-af64-523b660b2268",
   "metadata": {},
   "outputs": [],
   "source": [
    "jabberwocky = '''\n",
    "’Twas brillig, and the slithy toves\n",
    "      Did gyre and gimble in the wabe:\n",
    "All mimsy were the borogoves,\n",
    "      And the mome raths outgrabe.\n",
    "\n",
    "“Beware the Jabberwock, my son!\n",
    "      The jaws that bite, the claws that catch!\n",
    "Beware the Jubjub bird, and shun\n",
    "      The frumious Bandersnatch!”\n",
    "\n",
    "He took his vorpal sword in hand;\n",
    "      Long time the manxome foe he sought—\n",
    "So rested he by the Tumtum tree\n",
    "      And stood awhile in thought.\n",
    "\n",
    "And, as in uffish thought he stood,\n",
    "      The Jabberwock, with eyes of flame,\n",
    "Came whiffling through the tulgey wood,\n",
    "      And burbled as it came!\n",
    "\n",
    "One, two! One, two! And through and through\n",
    "      The vorpal blade went snicker-snack!\n",
    "He left it dead, and with its head\n",
    "      He went galumphing back.\n",
    "\n",
    "“And hast thou slain the Jabberwock?\n",
    "      Come to my arms, my beamish boy!\n",
    "O frabjous day! Callooh! Callay!”\n",
    "      He chortled in his joy.\n",
    "\n",
    "’Twas brillig, and the slithy toves\n",
    "      Did gyre and gimble in the wabe:\n",
    "All mimsy were the borogoves,\n",
    "      And the mome raths outgrabe.\n",
    "'''"
   ]
  },
  {
   "cell_type": "code",
   "execution_count": null,
   "id": "3e06ca01-b8d1-4b6b-9a1f-4e653949d23d",
   "metadata": {},
   "outputs": [],
   "source": [
    "# Write your code here"
   ]
  },
  {
   "cell_type": "markdown",
   "id": "db04e6a1-6146-4cb4-ac42-897f131031f6",
   "metadata": {},
   "source": [
    "## Square root algorithm\n",
    "\n",
    "Calculators and computers use iterative approaches to calculate square roots and many other mathematical functions to a desired level of accuracy. In an iterative method, loops are used to produce successively better numerical approximations of the desired result. \n",
    "\n",
    "A algorithm known as \"Heron's method\" or \"Newton's method\" for computing $\\sqrt{a}$ begins with a guess at the solution $x_i$. Using this guess, a better estimate of the square root is $x_{i+1}$:\n",
    "$$x_{i+1} = \\frac{1}{2} \\left( x_i + \\frac{a}{x_i} \\right)$$\n",
    "An even better estimate $x_{i+2}$ can be obtained by using applying the equation again, using $x_{i+1}$ on the right-hand side in place of $x_i$. In Python, we might write the iteration as \n",
    "\n",
    "```Python\n",
    "new = ( old + a / old ) / 2\n",
    "```\n",
    "\n",
    "Write code that does the following to estimate the square root of $a=5$.\n",
    "\n",
    "1. Define an initial guess for $\\sqrt{a}$. The guess could be `old = a/2`.\n",
    "2. Use Herron's method and `old` to compute a better estimate called `new`.\n",
    "3. Compute the absolute difference between `old` and `new`.\n",
    "4. Use a loop to repeat steps 2 and 3 until the absolute difference is < 0.0001 (our desired accuracy). When repeating, update the `old` value to `new` from the previous iteration: i.e. `old = new`.\n",
    "5. Print the final result.\n",
    "\n",
    "Compare your result to `np.sqrt(5)`. They should agree to the 4th decimal place.\n"
   ]
  },
  {
   "cell_type": "code",
   "execution_count": null,
   "id": "fce435f7-8db7-4d44-88d6-7dde979b08e8",
   "metadata": {},
   "outputs": [],
   "source": [
    "# Write your code here"
   ]
  }
 ],
 "metadata": {
  "kernelspec": {
   "display_name": "Python 3 (ipykernel)",
   "language": "python",
   "name": "python3"
  },
  "language_info": {
   "codemirror_mode": {
    "name": "ipython",
    "version": 3
   },
   "file_extension": ".py",
   "mimetype": "text/x-python",
   "name": "python",
   "nbconvert_exporter": "python",
   "pygments_lexer": "ipython3",
   "version": "3.12.7"
  }
 },
 "nbformat": 4,
 "nbformat_minor": 5
}
