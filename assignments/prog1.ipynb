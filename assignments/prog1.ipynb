{
 "cells": [
  {
   "cell_type": "markdown",
   "metadata": {},
   "source": [
    "# Programming Assignment 1"
   ]
  },
  {
   "cell_type": "markdown",
   "metadata": {},
   "source": [
    "## 1. Translate mathematical expressions into Python\n",
    "\n",
    "The purpose of this exercise is to become familiar with how to express basic mathematical operations in Python. Complete the following table. The first row is given as an example. Many of these formulas require you to first import numpy:\n",
    "```python\n",
    "import numpy as np\n",
    "```\n",
    "\n",
    "\n",
    "| Formula | Python | Value |\n",
    "|----------|----------|----------|\n",
    "| $3.4(5.2)$            | `3.4*5.2`| 17.6800  |\n",
    "| $2.3**3.1$            | `2.4**3.1` | |\n",
    "| $1.2\\times10^{-6}$    | `1.2e-6` | |\n",
    "| $3\\pi$                | `3*np.pi` | |\n",
    "| $\\sin(\\pi/7)$         | `np.sin( np.pi/7 )` | |\n",
    "| $\\cos(\\pi/5)$         | `np.cos( np.pi/5 )` | |\n",
    "| $\\ln(4)$              | `np.log(4)` | |\n",
    "| $\\log_{10}(4)$        | `np.log10(4)` | |\n",
    "| $\\sqrt{10}$           | `np.sqrt(10)` or `10**0.5` | |\n",
    "| $e^{10}$              | `np.exp(10)` | |\n",
    "| $\\sin^{-1}(1)$        | `np.arcsin(1)` | |\n",
    "| $\\tan^{-1}(-1,-1)$    | `np.arctan2(-1,-1)` | |\n",
    "| $(3\\times10^{-4})e^{\\pi/2}$                               |  | 0.001443 |\n",
    "| $\\ln( 1/\\sqrt{5}+2\\pi )$                                  |  | 1.90663 |\n",
    "| $260(\\frac{1000}{700})^{\\frac{287}{1004}}$                |  | 287.908 |\n",
    "| $\\frac{2.3\\times 10^{-4}}{3}(1-\\sqrt{1-3.1\\times10^{-2}})$ |  | 1.198e-6 |\n",
    "| $\\sqrt{8.5^2+10.1^2}$                                     |  | 13.201 |\n",
    "| $e^{-5000(\\frac{1}{285}-\\frac{1}{273})}$                  |  | 2.1623 |\n",
    "\n",
    "\n"
   ]
  },
  {
   "cell_type": "code",
   "execution_count": null,
   "metadata": {},
   "outputs": [],
   "source": [
    "# Write your code here"
   ]
  },
  {
   "cell_type": "markdown",
   "metadata": {},
   "source": [
    "## 2. Define a function\n",
    "\n",
    "The saturation water vapor pressure over liquid water is approximately\n",
    "$$p_{sat}(T_C) = a \\exp \\left({\\frac{b T_C}{T_C+c}} \\right)$$\n",
    "where $T_C$ is the Celsius temperature, $a=610.94$ Pa, $b=17.625$, and $c=243.03$ °C. (This is the improved Magnus equation and it has maxumum errors <0.4% over the temperature range -40 to +50 °C (Alduchov and Eskridge, 1996).)\n",
    "\n",
    "1. Write a function that computes the saturation water vapor pressure using this equation. \n",
    "2. Name your function `psat_water`\n",
    "3. The function should take 1 argument, which is the Celsius temperature \n",
    "4. Ensure that your function works and passess the tests below\n",
    "5. Add a Docstring to your function that explains what the function does, units of the parameter, and units of the return value \n",
    "\n",
    "Bonus:\n",
    "\n",
    "Add a second, optional argument named `T_units` to your function so that the user can specify whether the input temperature is Celsius or kelvin. Use 'K' for kelvin and 'C' for Celsius. Make Celsius the default. Add an `if-elif-else` statement to your function so that it gives the correct results for "
   ]
  },
  {
   "cell_type": "code",
   "execution_count": null,
   "metadata": {},
   "outputs": [],
   "source": [
    "# Write your function here"
   ]
  },
  {
   "cell_type": "code",
   "execution_count": null,
   "metadata": {},
   "outputs": [],
   "source": [
    "# Do not change this cell!\n",
    "# Run this cell after writing your function.\n",
    "# If your function is written correctly, you will get message that it passed.\n",
    "# If this cell generates an error, your function has a bug.\n",
    "assert np.isclose( psat_water(0),  610.940, rtol=1e-6 ), 'Your value at 0°C is inaccurate'\n",
    "assert np.isclose( psat_water(20), 2333.56, rtol=1e-6 ), 'Your value at 20°C is inaccurate'\n",
    "assert np.isclose( psat_water(40), 7375.37, rtol=1e-6 ), 'Your value at 40°C is inaccurate'\n",
    "print('Your function passed tests')"
   ]
  },
  {
   "cell_type": "code",
   "execution_count": null,
   "metadata": {},
   "outputs": [],
   "source": [
    "# Do not change this cell!\n",
    "# Run this cell after doing the BONUS\n",
    "# If your function is written correctly, you will get message that it passed.\n",
    "# If this cell generates an error, your function has a bug.\n",
    "assert np.isclose( psat_water(273.15,'K'), 610.940, rtol=1e-6 ), 'Your value at 273.15K is inaccurate'\n",
    "assert np.isclose( psat_water(293.15,'K'), 2333.56, rtol=1e-6 ), 'Your value at 293.15K is inaccurate'\n",
    "assert np.isclose( psat_water(313.15,'K'), 7375.37, rtol=1e-6 ), 'Your value at 313.15K is inaccurate'\n",
    "print('Your function passed tests')"
   ]
  },
  {
   "cell_type": "markdown",
   "metadata": {},
   "source": [
    "## 3. Wind speed classification\n",
    "\n",
    "You will now write a program that classifies wind speed in the Saffir-Simpson scale. The wind speed categories in miles-per-hour (mph) are\n",
    "* < 74 mph: not a hurricane\n",
    "* 75-95 mph: Category 1\n",
    "* 96-110 mph: Category 2\n",
    "* 111-129 mph: Category 3\n",
    "* 130-156 mph: Category 4\n",
    "* \\> 157 mph: Category 5\n",
    "\n",
    "Write a program that does the following.\n",
    "1. Ask the user to input a wind speed in miles per hour.\n",
    "2. Convert the user input to a float.\n",
    "3. If the wind speed is negative, display 'Wind speed cannot be negative'.\n",
    "4. Use `if`, `elif`, and `else` statements to categorize the wind speed.\n",
    "5. Display a message, \"The wind speed X is category N\" where X is the wind speed and N is the category number. When applicable, message should say \"not a hurricane\" instead of \"category N\".\n",
    "6. Add comments to your code (but really you should do that as you progress).\n",
    "\n",
    "Test your program with many different wind speeds to verify that it produces the correct output.\n",
    "\n",
    "\n",
    "Bonus:\n",
    "\n",
    "At the start of your program, ask the user to input the wind speed units that they prefer. (e.g. Enter 1 for mph, 2 for kts, 3 for km/h ). Convert their wind speed input from these units to mph and then identify the category. (1 kt = 1.15 mph; 1 km/h = 0.621 mph; 1 m/s = 2.24 mph )"
   ]
  },
  {
   "cell_type": "code",
   "execution_count": null,
   "metadata": {},
   "outputs": [],
   "source": [
    "# Write your code here"
   ]
  },
  {
   "cell_type": "markdown",
   "metadata": {},
   "source": [
    "## 4. Explore a new package and function\n",
    "\n",
    "This builds experience in figuring out unfamiliar Python features.\n",
    "\n",
    "1. Import the `os` package\n",
    "2. Use `?` or `help()` to examine `os.getcwd`\n",
    "3. Based on what you read, describe in your own words, what `os.getcwd()` does and the arguments that it takes, if any.\n",
    "4. Repeat steps 2 and 3 for `os.chdir`."
   ]
  },
  {
   "cell_type": "code",
   "execution_count": 34,
   "metadata": {},
   "outputs": [],
   "source": [
    "# Write your code here"
   ]
  }
 ],
 "metadata": {
  "kernelspec": {
   "display_name": "Python 3 (ipykernel)",
   "language": "python",
   "name": "python3"
  },
  "language_info": {
   "codemirror_mode": {
    "name": "ipython",
    "version": 3
   },
   "file_extension": ".py",
   "mimetype": "text/x-python",
   "name": "python",
   "nbconvert_exporter": "python",
   "pygments_lexer": "ipython3",
   "version": "3.12.7"
  }
 },
 "nbformat": 4,
 "nbformat_minor": 4
}
