{
 "cells": [
  {
   "cell_type": "markdown",
   "id": "5589c806-3fe0-40b3-a6df-e8f86bdd746e",
   "metadata": {},
   "source": [
    "# Programming Assignment 5"
   ]
  },
  {
   "cell_type": "markdown",
   "id": "29594646-541f-44f8-988c-863a8ed775b3",
   "metadata": {},
   "source": [
    "## 0. Preliminaries\n",
    "\n",
    "Import numpy and matplotlib.pyplot with the usual aliases."
   ]
  },
  {
   "cell_type": "code",
   "execution_count": null,
   "id": "fc87a564-a484-4fb3-9e53-0279c9ce3272",
   "metadata": {},
   "outputs": [],
   "source": [
    "# Write your code here"
   ]
  },
  {
   "cell_type": "markdown",
   "id": "98522ded-e983-4623-8c63-07e8a740a68a",
   "metadata": {},
   "source": [
    "## 1. Array creation\n",
    "\n",
    "Write NumPy commands that create the following arrays.\n",
    "\n",
    "<details>\n",
    "    <summary>Hint</summary>\n",
    "For arrays containing sequential numbers, use a combination of arange or linspace, np.newaxis, reshape, and transpose.\n",
    "</details>\n",
    "\n",
    "---\n",
    "a.\n",
    "```\n",
    "[[0. 0. 0. 0.]\n",
    " [0. 0. 0. 0.]]\n",
    "```\n",
    "\n",
    "---\n",
    "b.\n",
    "```\n",
    "[[[1. 1. 1.]\n",
    "  [1. 1. 1.]\n",
    "  [1. 1. 1.]]\n",
    "\n",
    " [[1. 1. 1.]\n",
    "  [1. 1. 1.]\n",
    "  [1. 1. 1.]]]\n",
    "```\n",
    "\n",
    "---\n",
    "c.\n",
    "```\n",
    "[[[3 3]\n",
    "  [3 3]]\n",
    "\n",
    " [[3 3]\n",
    "  [3 3]]]\n",
    "```\n",
    "\n",
    "---\n",
    "d.\n",
    "```\n",
    "[[10]\n",
    " [11]\n",
    " [12]\n",
    " [13]]\n",
    "```\n",
    "\n",
    "---\n",
    "e.\n",
    "```\n",
    "[[1 2 3]\n",
    " [4 5 6]\n",
    " [7 8 9]]\n",
    "```\n",
    "\n",
    "---\n",
    "f.\n",
    "```\n",
    "[[1 4 7]\n",
    " [2 5 8]\n",
    " [3 6 9]]\n",
    "```"
   ]
  },
  {
   "cell_type": "code",
   "execution_count": null,
   "id": "ff12259b-2a32-4701-94b8-a6799e42cdc5",
   "metadata": {},
   "outputs": [],
   "source": [
    "# Write your code here\n",
    "# Use code comments to identify the sub-part letter for each line"
   ]
  },
  {
   "cell_type": "markdown",
   "id": "b60f09d7-12b4-42d7-9595-1b793f2e8b9d",
   "metadata": {},
   "source": [
    "## 2. Array manipulation\n",
    "\n",
    "This task builds familiarity with creating, manipulating, and visualizing numpy arrays.\n",
    "\n",
    "1. Create a 1-D array named `x` with 200 points covering the range 0 to 4π\n",
    "3. Compute $y = 10\\sin(4x) + x$\n",
    "4. Plot `x` and `y`\n",
    "6. Create a copy of y named `y_pos`\n",
    "5. Create an array named `idx` which is `True` where `y_pos<0`.\n",
    "7. Set the negative values of `y_pos` to zero. Now all values of `y_pos` should be ≥0.\n",
    "8. Plot `x` and `y_pos`\n"
   ]
  },
  {
   "cell_type": "code",
   "execution_count": null,
   "id": "160b9259-6f71-447c-bda6-16ae4d61eea9",
   "metadata": {},
   "outputs": [],
   "source": [
    "# Write your code here"
   ]
  },
  {
   "cell_type": "markdown",
   "id": "3b567e41-0270-4fc7-91a5-fce6feedf5a6",
   "metadata": {},
   "source": [
    "## 3. 2-D Array manipulation \n",
    "\n",
    "1. Create 1-D arrays named `x` and `y` representing cartesian coordinates. `x` should contain 200 values in the range [0,20]. `y` should contain 100 values in the range [0,6].\n",
    "2. Use meshgrid to create 2-D arrays of `xx` and `yy`. These represent the cartesian x and y coordinates at each location in the 100 x 200 grid.\n",
    "3. Calculate the quantity $f = 10 + 2\\sin(x) + y$. (`f` should be 2-D and have the same shape as `xx` and `yy`.)\n",
    "4. Visualize `f` on the x-y plane using pcolormesh\n",
    "5. Compute the mean and standard deviation of `f` over the entire domain. Using a print statement, format the values as follows, with 3 decimal places for each number:\n",
    "```\n",
    "   mean: x.xxx\n",
    "    std: x.xxx\n",
    "```"
   ]
  },
  {
   "cell_type": "code",
   "execution_count": null,
   "id": "8bb9ed22-0073-4345-995e-6b304513f5d5",
   "metadata": {},
   "outputs": [],
   "source": [
    "# Write your code here"
   ]
  },
  {
   "cell_type": "markdown",
   "id": "292e52ad-bca8-4a6a-bb88-6fba54005677",
   "metadata": {},
   "source": [
    "## 4. Gridded data analysis\n",
    "\n",
    "In this task, you will analyze gridded atmospheric data. The data are mean air temperature at 2 m above ground level (T2m) for July 2024, as estimated by the NASA MERRA-2 reanalysis. MERRA-2 has a resolution of 0.5° latitude and 0.625° longitude, so T2m is a 2-D array with has hundreds of data points in each dimension. You will visualize the data and compute zonal and meridional means.\n",
    "\n",
    "The data files for this assignment are in the prog5_files subfolder in `.npy` format. (We will use NetCDF files later in the course.)\n",
    "\n",
    "1. Load data from the files in the prog5_files folder: T2m.npy, lat.npy, lon.npy. Use `T2m`, `lat`, and `lon` as the names of variables that you read from these files. \n",
    "2. How many longitudes are there in the dataset? How many latitudes? Is the shape of T2m (latitude,longitude) or (longitude,latitude)?  Write your answers in code comments. \n",
    "3. Check the mean value of `T2m` and explain in code comments why the temperature is likely in kelvin units.\n",
    "4. Convert T2m from kelvin to Celsius.\n",
    "5. Visualize the temperature (now in Celsius) using `pcolormesh`. (You can probably identify some geographic features even though we haven't plotted coastlines.) Add a colorbar.\n",
    "6. Average the temperature across latitudes (meridional mean) using `T2m.mean(axis=...)`. This will create a 1-D array with the same shape as `lon`. Plot the meridional mean temperature as a function of longitude (line plot).\n",
    "7. Average the temperature across longitudes (zonal mean). This will create a 1-D array with the same shape as `lat`. Plot the zonal mean temperature as a function of latitude (line plot).\n",
    "8. What latitude (approximately) has the warmest mean temperature? "
   ]
  },
  {
   "cell_type": "code",
   "execution_count": null,
   "id": "885648bf-1a44-47dd-87de-06ae9499498f",
   "metadata": {},
   "outputs": [],
   "source": [
    "# Write your code here\n",
    "# You will need additional code cells for each plot.\n",
    "\n",
    "# Load latitude data (provided as example)\n",
    "lat = np.load('prog5_files/lat.npy')"
   ]
  }
 ],
 "metadata": {
  "kernelspec": {
   "display_name": "Python 3 (ipykernel)",
   "language": "python",
   "name": "python3"
  },
  "language_info": {
   "codemirror_mode": {
    "name": "ipython",
    "version": 3
   },
   "file_extension": ".py",
   "mimetype": "text/x-python",
   "name": "python",
   "nbconvert_exporter": "python",
   "pygments_lexer": "ipython3",
   "version": "3.12.8"
  }
 },
 "nbformat": 4,
 "nbformat_minor": 5
}
