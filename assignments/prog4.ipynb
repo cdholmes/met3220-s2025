{
 "cells": [
  {
   "cell_type": "markdown",
   "id": "5589c806-3fe0-40b3-a6df-e8f86bdd746e",
   "metadata": {},
   "source": [
    "# Programming Assignment 4"
   ]
  },
  {
   "cell_type": "code",
   "execution_count": null,
   "id": "4efe6b17-7e22-4325-9c3f-5e1ee4ce0094",
   "metadata": {},
   "outputs": [],
   "source": [
    "# Import NumPy as it will be needed below\n",
    "import numpy as np\n",
    "\n",
    "# Import pytest; Install if needed\n",
    "try: \n",
    "    import pytest\n",
    "except ModuleImportError:\n",
    "    %conda install pytest\n",
    "    import pytest"
   ]
  },
  {
   "cell_type": "markdown",
   "id": "ecb71ff5-0b98-4293-91bc-bd0e5f973811",
   "metadata": {},
   "source": [
    "## General instructions\n",
    "\n",
    "For this assignment and *all future assignments*, your code must include *comments* and all functions that you write must include *docstrings*. The docstrings should describe what a function does, including what its inputs and outputs are, and comments must explain what your code does and how it works. The comments and docstrings will be part of the grading."
   ]
  },
  {
   "cell_type": "markdown",
   "id": "33b4de92-d901-4da4-80d9-703703aefcdb",
   "metadata": {},
   "source": [
    "## Helpful information\n",
    "\n",
    "The `sum()` function may be useful in this assignment. This built-in function computes the sum or the items in a list or tuple, as long as all the items are numeric types."
   ]
  },
  {
   "cell_type": "code",
   "execution_count": null,
   "id": "d85c937c-08ca-4bfa-8655-613eb13d3229",
   "metadata": {},
   "outputs": [],
   "source": [
    "sum( [1,2,3] )"
   ]
  },
  {
   "cell_type": "markdown",
   "id": "db04e6a1-6146-4cb4-ac42-897f131031f6",
   "metadata": {},
   "source": [
    "## 1. Square root algorithm\n",
    "\n",
    "Calculators and computers use iterative approaches to calculate square roots and many other mathematical functions to a desired level of accuracy. In an iterative method, loops are used to produce successively better numerical approximations of the desired result. \n",
    "\n",
    "A algorithm known as \"Heron's method\" or \"Newton's method\" for computing $\\sqrt{a}$ begins with a guess at the solution $x_i$. Using this guess, a better estimate of the square root is $x_{i+1}$:\n",
    "$$x_{i+1} = \\frac{1}{2} \\left( x_i + \\frac{a}{x_i} \\right)$$\n",
    "An even better estimate $x_{i+2}$ can be obtained by using the equation again, using $x_{i+1}$ on the right-hand side in place of $x_i$. In Python, we might write the iteration as \n",
    "\n",
    "```Python\n",
    "x_new = ( x_old + a / x_old ) / 2\n",
    "```\n",
    "\n",
    "Write code that does the following to estimate the square root of $a=5$.\n",
    "\n",
    "1. Define an initial guess for $\\sqrt{a}$. The guess could be `x_old = a/2`.\n",
    "2. Use Herron's method and `x_old` to compute a better estimate called `x_new`.\n",
    "3. Compute the absolute difference between `x_old` and `x_new`.\n",
    "4. Use a loop to repeat steps 2 and 3 until the absolute difference is < 0.0001 (our desired accuracy). When repeating, update the `x_old` value to `x_new` from the previous iteration: i.e. `x_old = x_new`.\n",
    "5. Print the final result.\n",
    "6. Encapsulate your code in a function called `mysqrt`, which is called as `mysqrt(a)` and returns the square root of `a`.\n",
    "\n",
    "Compare your result to `np.sqrt(5)`. They should agree to the 4th decimal place.\n"
   ]
  },
  {
   "cell_type": "code",
   "execution_count": null,
   "id": "fce435f7-8db7-4d44-88d6-7dde979b08e8",
   "metadata": {},
   "outputs": [],
   "source": [
    "# Write your code here"
   ]
  },
  {
   "cell_type": "code",
   "execution_count": null,
   "id": "53910414-facb-472c-83bf-f63dcac52ce3",
   "metadata": {},
   "outputs": [],
   "source": [
    "# Write your code for part 6 here."
   ]
  },
  {
   "cell_type": "code",
   "execution_count": null,
   "id": "1a636166-bd20-4f25-b5ff-a8dc87775e93",
   "metadata": {},
   "outputs": [],
   "source": [
    "# Tests for part 6\n",
    "# Do not modify\n",
    "for a in [2,5,7,2087]:\n",
    "    assert np.isclose( mysqrt(a), np.sqrt(a), atol=1e-4 )\n",
    "print('Your function passed the tests')"
   ]
  },
  {
   "cell_type": "markdown",
   "id": "d8604eb0-5952-4c95-972c-dd1b473dd37a",
   "metadata": {},
   "source": [
    "## 2. Day of the year\n",
    "\n",
    "Write a function that computes the day of the year for a year that is not a leap year. For example, Jan 1 is day 1, Feb 1 is day 32, and March 1 is day 60.\n",
    "\n",
    "The function should be invoked as `day_of_year(month,day)` where `month` is the month number (1=Jan) and `day` is the day of the month. \n",
    "\n",
    "<details>\n",
    "    <summary>Hints</summary>\n",
    "    \n",
    "* Think about the numbers that you must add together for a couple particular dates (e.g. Mar 13, June 5). Devise a general rule that will work for any month.\n",
    "    \n",
    "* It may be useful to define a list that contains the number of days in each month.\n",
    "\n",
    "* It may be useful to use the sum() or np.sum() function.\n",
    "</details>"
   ]
  },
  {
   "cell_type": "code",
   "execution_count": null,
   "id": "160b9259-6f71-447c-bda6-16ae4d61eea9",
   "metadata": {},
   "outputs": [],
   "source": [
    "# Write your function here"
   ]
  },
  {
   "cell_type": "code",
   "execution_count": null,
   "id": "78f5654d-4025-4c37-9fea-c69ae16bc32c",
   "metadata": {},
   "outputs": [],
   "source": [
    "assert day_of_year(1,17)  == 17\n",
    "assert day_of_year(9,3)   == 246\n",
    "assert day_of_year(11,20) == 324\n",
    "assert day_of_year(12,31) == 365\n",
    "print('Your function passed the tests')"
   ]
  },
  {
   "cell_type": "markdown",
   "id": "30457e0e-c9db-4c8f-b1cb-9d26a23f4f33",
   "metadata": {},
   "source": [
    "## 3. Digit sum\n",
    "\n",
    "Write a function called `digit_sum` that calculates the sum of all the digits in a positive integer. For example, if the number is 123454321, the sum of the digits is 25. If the number is 100000000000000, the sum is 1.\n",
    "\n",
    "In your function, test if the input argument is non-negative integer (i.e. ≥0). (Use the `type()` function and a ≥ comparison.) If the input is *not* a non-negative integer, then raise a `ValueError` with the message 'input must be a non-negative integer'.\n",
    "\n",
    "<details>\n",
    "    <summary>Hints</summary>\n",
    "\n",
    "* The modulo operator can help extract a single digit. For example `123 % 10` is `3`.\n",
    "\n",
    "* The `count_digit()` function from a prior assignment may provide inspiration for completing this assignment. \n",
    "\n",
    "</details>"
   ]
  },
  {
   "cell_type": "code",
   "execution_count": null,
   "id": "30a93bb8-dc36-4e57-b97e-4e8d1f8606fd",
   "metadata": {},
   "outputs": [],
   "source": [
    "# Write your function here"
   ]
  },
  {
   "cell_type": "code",
   "execution_count": null,
   "id": "0564d721-33bb-420a-8334-21257d6b2dae",
   "metadata": {},
   "outputs": [],
   "source": [
    "# Tests to check results with non-negative integers\n",
    "assert digit_sum( 0 )  == 0\n",
    "assert digit_sum( 5 )  == 5\n",
    "assert digit_sum( 50 ) == 5\n",
    "assert digit_sum( 123454321 ) == 25\n",
    "assert digit_sum( 100000000000000 ) == 1\n",
    "print('Your function passed the tests')"
   ]
  },
  {
   "cell_type": "code",
   "execution_count": null,
   "id": "4d05403c-1f05-4678-88d2-1bca6ea7cc18",
   "metadata": {},
   "outputs": [],
   "source": [
    "# Tests to check if ValueError is raised with other input types\n",
    "import pytest\n",
    "with pytest.raises(ValueError):\n",
    "    digit_sum(-10)\n",
    "with pytest.raises(ValueError):\n",
    "    digit_sum(5.1)\n",
    "with pytest.raises(ValueError):\n",
    "    digit_sum('5')\n",
    "with pytest.raises(ValueError):\n",
    "    digit_sum([5])\n",
    "print('Your function passed the tests')"
   ]
  },
  {
   "cell_type": "markdown",
   "id": "32be451b-53d4-4028-b686-b438f21c9dc0",
   "metadata": {},
   "source": [
    "## 4. String manipulation\n",
    "\n",
    "This is the name of a file containing data from the GOES geostationary weather satellite: \"OR_ABI-L2-CMIPC-M6C01_G16_s20250282301174_e20250282303547_c20250282304023.nc\"\n",
    "\n",
    "The filename contains information about the file contents. \n",
    "* OR = operational, real-time product\n",
    "* ABI-L2-CMIPC = cloud and moisture imagery over the contiguous US\n",
    "* M6C01 = channel/band 1, which is blue (0.47 µm)\n",
    "* G16 = GOES-16 satellite (currently GOES-East)\n",
    "* s20250282301174 = observation start time\n",
    "* e20250282303547 = observation end time\n",
    "* c20250282304023 = file creation time\n",
    "* nc = netCDF file type\n",
    "\n",
    "The start, end, and creation times all follow this pattern: YYYYNNNHHMMSSs\n",
    "* YYYY = year\n",
    "* NNN = day of year number\n",
    "* HH = hour\n",
    "* MM = minute\n",
    "* SS = second\n",
    "* s = tenth of a second\n",
    "\n",
    "Write code below that does the following\n",
    "1. Use the `split()` method to break the filename in to sections.\n",
    "2. Use indexing to locate the section containing the observation end time.\n",
    "3. Use indexing to define separate variables `year`, `day`, `hour`, `minute`, and `second` (ignoring the tenths).\n",
    "4. Use an f-string to rewrite the end time as \"end time: YYYY-NNN HH:MM:SS\" (substituting values for YYYY, NNN, HH, MM, SS. "
   ]
  },
  {
   "cell_type": "code",
   "execution_count": null,
   "id": "633fbf5d-f875-4bd9-aa9e-02ce37803a9e",
   "metadata": {},
   "outputs": [],
   "source": [
    "filename = \"OR_ABI-L2-CMIPC-M6C01_G16_s20250282301174_e20250282303547_c20250282304023.nc\"\n",
    "# Write your code here"
   ]
  },
  {
   "cell_type": "code",
   "execution_count": null,
   "id": "8faa03c1-7ea8-4328-95f6-86a880523944",
   "metadata": {},
   "outputs": [],
   "source": []
  }
 ],
 "metadata": {
  "kernelspec": {
   "display_name": "Python 3 (ipykernel)",
   "language": "python",
   "name": "python3"
  },
  "language_info": {
   "codemirror_mode": {
    "name": "ipython",
    "version": 3
   },
   "file_extension": ".py",
   "mimetype": "text/x-python",
   "name": "python",
   "nbconvert_exporter": "python",
   "pygments_lexer": "ipython3",
   "version": "3.12.8"
  }
 },
 "nbformat": 4,
 "nbformat_minor": 5
}
