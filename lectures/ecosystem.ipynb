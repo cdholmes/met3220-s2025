{
 "cells": [
  {
   "cell_type": "markdown",
   "id": "9e9448b7-f57b-4691-8c2a-1681f9309f55",
   "metadata": {},
   "source": [
    "# The Python Ecosystem\n",
    "\n",
    "Running and building Python programs requires multiple software components installed on your computer or a server. Nearly all of these are free, open-source software projects, produced by thousands of developers around the world. \n",
    "\n",
    "Parts of the ecosystem\n",
    "* Python language & interpreter (currently version 3.13)\n",
    "* Packages (e.g. NumPy, pandas, xarray, CartoPy, SciPy)\n",
    "* Package & environment manager (coordinates compatible package versions)\n",
    "* Development environment\n",
    "  - JupyterLab, JupyterHub\n",
    "  - Spyder\n",
    "  - Visual Studio Code\n",
    "  - PyCharm\n",
    "\n",
    "A Python *distribution* provides many or all of these parts in a single download to make setup easier."
   ]
  },
  {
   "cell_type": "markdown",
   "id": "daf96def-e03f-44e8-a2ab-6667df053429",
   "metadata": {},
   "source": [
    "# Installing Python: Recommended method\n",
    "\n",
    "A computer running Windows, MacOS, or Linux is required. Tablets (e.g. iPads) are not supported.\n",
    "\n",
    "1. Download and install the [Anaconda Python](https://www.anaconda.com/download) distribution. Requires 4-5 GB free space.\n",
    "2. Run the Anaconda Navigator app and start Jupyter Lab.\n",
    "3. Install additional packages that Anaconda doesn't include.\n",
    "   - On MacOS or Linux, open Terminal\n",
    "   - On Windows open Anaconda Prompt from within Anaconda Navigator\n",
    "   - Run the following command `conda install cartopy netcdf4 h5netcdf cfgrib cftime nc-time-axis owslib`\n",
    "   Other packages can be installed similarly."
   ]
  },
  {
   "cell_type": "markdown",
   "id": "c6c8657f-e2c8-435c-b21c-f24b51bec79f",
   "metadata": {},
   "source": [
    "# Integrated Development Environments (IDEs)\n",
    "\n",
    "There are multiple IDEs for working in Python. The ones shown here have similar capabilities with different appearance, styles, and configurability.\n",
    "\n",
    "### JupyterLab and JupyterHub\n",
    "This class uses [JupyterLab](https://docs.jupyter.org) hosted on a website, which is called JupyterHub. Included in Anaconda or installed through conda.\n",
    "\n",
    "### Spyder\n",
    "[Spyder](https://docs.spyder-ide.org/current/index.html) is designed for data analysis and scientific programming in Python, with layout inspired by Matlab. Included in Anaconda or installed through conda.\n",
    "\n",
    "### Visual Studio Code\n",
    "[VS Code](https://code.visualstudio.com/) is a general-purpose code editor with plugins for Python, Jupyter Notebooks, and other programming languages. Installed through Anaconda Navigator or from web download.\n",
    "\n",
    "### PyCharm\n",
    "[PyCharm](https://www.jetbrains.com/pycharm/) is a commercial IDE for Python. PyCharm Professional (free for students; paid for others) is required for Jupyter Notebooks. Installed from web download."
   ]
  },
  {
   "cell_type": "code",
   "execution_count": null,
   "id": "369891d1-5b8f-4566-8d12-7e832cfeea4a",
   "metadata": {},
   "outputs": [],
   "source": []
  }
 ],
 "metadata": {
  "kernelspec": {
   "display_name": "Python 3 (ipykernel)",
   "language": "python",
   "name": "python3"
  },
  "language_info": {
   "codemirror_mode": {
    "name": "ipython",
    "version": 3
   },
   "file_extension": ".py",
   "mimetype": "text/x-python",
   "name": "python",
   "nbconvert_exporter": "python",
   "pygments_lexer": "ipython3",
   "version": "3.13.2"
  }
 },
 "nbformat": 4,
 "nbformat_minor": 5
}
