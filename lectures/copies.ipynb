{
 "cells": [
  {
   "cell_type": "markdown",
   "id": "f09dccd3-04a6-41ad-b073-4e2f97cb0727",
   "metadata": {},
   "source": [
    "# References, Aliases, and Copies\n",
    "\n",
    "Copying lists, dicts, and other complex data structures sometimes creates an alias and sometimes an independent deep copy."
   ]
  },
  {
   "cell_type": "code",
   "execution_count": 8,
   "id": "c1cd464f-94fa-4d22-a650-0da071ff2172",
   "metadata": {},
   "outputs": [
    {
     "data": {
      "text/plain": [
       "True"
      ]
     },
     "execution_count": 8,
     "metadata": {},
     "output_type": "execute_result"
    }
   ],
   "source": [
    "# Create a list\n",
    "a = [1, 2, 3]\n",
    "\n",
    "# b is an alias or shallow copy of a\n",
    "b = a\n",
    "\n",
    "# Both a and b refer to the same location in the computer's memory\n",
    "# as the following command shows.\n",
    "a is b"
   ]
  },
  {
   "cell_type": "code",
   "execution_count": 9,
   "id": "8475c404-8d44-41fd-9a0c-fcb8b860ee34",
   "metadata": {},
   "outputs": [
    {
     "name": "stdout",
     "output_type": "stream",
     "text": [
      "['potato', 2, 3] ['potato', 2, 3]\n"
     ]
    }
   ],
   "source": [
    "# Changing b also changes a, because they are aliases\n",
    "b[0] = 'potato'\n",
    "print(a, b)"
   ]
  },
  {
   "cell_type": "code",
   "execution_count": 12,
   "id": "01764779-bda7-428e-9bb1-cbc38f496d15",
   "metadata": {},
   "outputs": [
    {
     "name": "stdout",
     "output_type": "stream",
     "text": [
      "False False\n"
     ]
    }
   ],
   "source": [
    "# A few ways to create a clone instead of alias.\n",
    "a = [1, 2, 3]\n",
    "\n",
    "# Slices always create a new list\n",
    "b = a[:]\n",
    "\n",
    "# copy() method creates a clone\n",
    "c = a.copy()\n",
    "\n",
    "# Neither b nor c share the same memory as a\n",
    "print(a is b, a is c)"
   ]
  },
  {
   "cell_type": "markdown",
   "id": "a1ca3104-5c85-4469-9b1b-6c3aaae49750",
   "metadata": {},
   "source": [
    "## Pure and Modifier functions\n",
    "\n",
    "Passing a list as an argument actually passes a reference to the list, not a copy or clone of the list. So parameter passing creates an alias for you: the caller has one variable referencing the list, and the called function has an alias, but there is only one underlying list object. For example, the function below takes a list as an argument and multiplies each element in the list by 2:"
   ]
  },
  {
   "cell_type": "code",
   "execution_count": 13,
   "id": "a2728b04-faf9-4181-a200-2695eb5b7663",
   "metadata": {},
   "outputs": [],
   "source": [
    "def double_stuff(a_list):\n",
    "    \"\"\" Return a new list which contains\n",
    "        doubles of the elements in a_list.\n",
    "    \"\"\"\n",
    "    new_list = []\n",
    "    for value in a_list:\n",
    "        new_elem = 2 * value\n",
    "        new_list.append(new_elem)\n",
    "\n",
    "    return new_list"
   ]
  },
  {
   "cell_type": "code",
   "execution_count": 14,
   "id": "8cfcdbec-f263-4f93-9858-b05ae3a35ff4",
   "metadata": {},
   "outputs": [
    {
     "name": "stdout",
     "output_type": "stream",
     "text": [
      "[4, 10, 18]\n"
     ]
    }
   ],
   "source": [
    "# Our function changes its input parameters\n",
    "things = [2, 5, 9]\n",
    "double_stuff(things)\n",
    "print(things)"
   ]
  },
  {
   "cell_type": "markdown",
   "id": "e95c0c42-cc5c-4d6e-a5a5-2b628ec52b54",
   "metadata": {},
   "source": [
    "Functions that change their input arguments are ***modifiers*** and the changes are called ***side effects***.\n",
    "\n",
    "A ***pure*** function does not produce side effects. It communicates with the calling program only through parameters, which it does not modify, and a return value. Here is double_stuff written as a pure function:"
   ]
  },
  {
   "cell_type": "code",
   "execution_count": 15,
   "id": "8391a004-6dc2-4dd4-ac71-15e3dfb4d2c5",
   "metadata": {},
   "outputs": [],
   "source": [
    "def double_stuff_pure(a_list):\n",
    "    \"\"\" Return a new list which contains\n",
    "        doubles of the elements in a_list.\n",
    "    \"\"\"\n",
    "    new_list = []\n",
    "    for value in a_list:\n",
    "        new_elem = 2 * value\n",
    "        new_list.append(new_elem)\n",
    "\n",
    "    return new_list"
   ]
  },
  {
   "cell_type": "code",
   "execution_count": 16,
   "id": "2d8a889f-db1c-4bb1-9149-e4c18a24fd54",
   "metadata": {},
   "outputs": [
    {
     "name": "stdout",
     "output_type": "stream",
     "text": [
      "[2, 5, 9]\n",
      "[4, 10, 18]\n"
     ]
    }
   ],
   "source": [
    "things = [2, 5, 9]\n",
    "newthings = double_stuff_pure(things)\n",
    "print(things)\n",
    "print(newthings)"
   ]
  },
  {
   "cell_type": "markdown",
   "id": "ac926425-8458-41bf-a381-a151a0ae766b",
   "metadata": {},
   "source": [
    "In general, write ***pure*** functions when feasible and use ***modifiers*** only when there is a compelling reason."
   ]
  },
  {
   "cell_type": "code",
   "execution_count": null,
   "id": "9da9ddf8-620b-4d5f-97c6-b519772f0c92",
   "metadata": {},
   "outputs": [],
   "source": []
  }
 ],
 "metadata": {
  "kernelspec": {
   "display_name": "Python 3 (ipykernel)",
   "language": "python",
   "name": "python3"
  },
  "language_info": {
   "codemirror_mode": {
    "name": "ipython",
    "version": 3
   },
   "file_extension": ".py",
   "mimetype": "text/x-python",
   "name": "python",
   "nbconvert_exporter": "python",
   "pygments_lexer": "ipython3",
   "version": "3.12.7"
  }
 },
 "nbformat": 4,
 "nbformat_minor": 5
}
