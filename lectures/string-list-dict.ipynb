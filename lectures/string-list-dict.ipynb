{
 "cells": [
  {
   "cell_type": "markdown",
   "metadata": {},
   "source": [
    "# Objects, Attributes, Methods\n",
    "\n",
    "In programming, an ***object*** contains both data and code, in the form of ***attributes*** (i.e. properties) and ***methods*** (i.e. functions within the object). An object is also a specific instance of a ***class***. \n",
    "\n",
    "Object methods enable programmers to use an object without knowing all its interior details. We can think of cars analogously. Cars have many internal parts (e.g. engine, brakes) that are essential for driving. The steering wheel, accelerator and brake in a car are analogous to object methods. They enable an ordinary person to drive, without knowing anything about how the engine inside. \n",
    "\n",
    "Almost everything in Python is an ***object***. "
   ]
  },
  {
   "cell_type": "markdown",
   "metadata": {},
   "source": [
    "# Strings\n"
   ]
  },
  {
   "cell_type": "code",
   "execution_count": null,
   "metadata": {},
   "outputs": [],
   "source": [
    "string = \"ABCDEFGHIJKLMNOPQRSTUVWXYZ\"\n",
    "\n",
    "# Length of a string\n",
    "len(string)"
   ]
  },
  {
   "cell_type": "markdown",
   "metadata": {},
   "source": [
    "## Concatenation & repetition\n",
    "\n",
    "\"Adding\" strings ***concatenates*** them (joins in series)."
   ]
  },
  {
   "cell_type": "code",
   "execution_count": null,
   "metadata": {},
   "outputs": [],
   "source": [
    "'hot' + 'dog'"
   ]
  },
  {
   "cell_type": "markdown",
   "metadata": {},
   "source": [
    "\"Multiplying\" a string repeats it. (Multiplier must be an integer.)"
   ]
  },
  {
   "cell_type": "code",
   "execution_count": null,
   "metadata": {},
   "outputs": [],
   "source": [
    "'go! ' * 3"
   ]
  },
  {
   "attachments": {
    "image.png": {
     "image/png": "[encoded data removed]"
    }
   },
   "cell_type": "markdown",
   "metadata": {},
   "source": [
    "## Indexing and substrings\n",
    "\n",
    "Illustration of Python indexing, starting at 0.\n",
    "\n",
    "![image.png](attachment:image.png)"
   ]
  },
  {
   "cell_type": "code",
   "execution_count": null,
   "metadata": {},
   "outputs": [],
   "source": [
    "string = \"ABCDEFGHIJKLMNOPQRSTUVWXYZ\"\n",
    "\n",
    "# First character\n",
    "print( string[0] )\n",
    "# Second character\n",
    "print( string[1] )"
   ]
  },
  {
   "cell_type": "code",
   "execution_count": null,
   "metadata": {},
   "outputs": [],
   "source": [
    "# First 4 characters\n",
    "print( string[0:4] )\n",
    "# A shortcut \n",
    "print( string[:4] )"
   ]
  },
  {
   "cell_type": "code",
   "execution_count": null,
   "metadata": {},
   "outputs": [],
   "source": [
    "# Last character is -1\n",
    "print( string[-1] )"
   ]
  },
  {
   "cell_type": "code",
   "execution_count": null,
   "metadata": {},
   "outputs": [],
   "source": [
    "# Last 4 characters\n",
    "print( string[-4:] )"
   ]
  },
  {
   "cell_type": "code",
   "execution_count": null,
   "metadata": {},
   "outputs": [],
   "source": [
    "# Every second character\n",
    "print( string[::2] )"
   ]
  },
  {
   "cell_type": "code",
   "execution_count": null,
   "metadata": {},
   "outputs": [],
   "source": [
    "# Start at 3, end at 10, every second character\n",
    "print( string[3:10:2] )"
   ]
  },
  {
   "cell_type": "markdown",
   "metadata": {},
   "source": [
    "***Indexing*** is the process of selecting a subset of a string or array\n",
    "\n",
    "Indexing syntax: `string[b:e:s]`\n",
    "\n",
    "* `b` (beginning) is the first element (inclusive)\n",
    "* `e` (end) is the last element (exclusive)\n",
    "* `s` is the step size \n",
    "* `b`, `e`, and `s` can be positive or negative integers \n",
    "\n",
    "***Memorize*** these rules as indexing is very common.\n"
   ]
  },
  {
   "cell_type": "code",
   "execution_count": null,
   "metadata": {},
   "outputs": [],
   "source": [
    "# Reverse a string\n",
    "print( string[::-1] )"
   ]
  },
  {
   "cell_type": "code",
   "execution_count": null,
   "metadata": {},
   "outputs": [],
   "source": [
    "# Test if a substring is in a string\n",
    "print( 'CD' in string )"
   ]
  },
  {
   "cell_type": "markdown",
   "metadata": {},
   "source": [
    "## String methods\n",
    "\n",
    "String objects have many methods. Here are a few useful methods.\n"
   ]
  },
  {
   "cell_type": "code",
   "execution_count": null,
   "metadata": {},
   "outputs": [],
   "source": [
    "name = '  Alice  '\n",
    "\n",
    "# Remove leading and trailing whitespace\n",
    "name = name.strip()\n",
    "\n",
    "# Some string methods\n",
    "print( name.upper() )\n",
    "print( name.lower() )"
   ]
  },
  {
   "cell_type": "code",
   "execution_count": null,
   "metadata": {},
   "outputs": [],
   "source": [
    "# Find the first location of a substring\n",
    "print( name.find('c') )"
   ]
  },
  {
   "cell_type": "code",
   "execution_count": null,
   "metadata": {},
   "outputs": [],
   "source": [
    "# Replace characters in a string\n",
    "print( name.replace('A','O') )"
   ]
  },
  {
   "cell_type": "code",
   "execution_count": null,
   "metadata": {},
   "outputs": [],
   "source": [
    "long_string = \"This is a long string that is going to be split into words\"\n",
    "\n",
    "# Split a string into a list of words\n",
    "words = long_string.split()\n",
    "print( words )"
   ]
  },
  {
   "cell_type": "code",
   "execution_count": null,
   "metadata": {},
   "outputs": [],
   "source": [
    "# Join a list of words into a string\n",
    "print( '_'.join(words) )\n",
    "print( ','.join(words) )"
   ]
  },
  {
   "cell_type": "markdown",
   "metadata": {},
   "source": [
    "#### Exercise\n",
    "\n",
    "Write a function named `reverse` that reverses its string argument and satisfies the tests below."
   ]
  },
  {
   "cell_type": "code",
   "execution_count": null,
   "metadata": {},
   "outputs": [],
   "source": [
    "# Write your code here"
   ]
  },
  {
   "cell_type": "code",
   "execution_count": null,
   "metadata": {},
   "outputs": [],
   "source": [
    "# Test your code; Don't modify this cell\n",
    "assert reverse(\"happy\") == \"yppah\"\n",
    "assert reverse(\"Python\") == \"nohtyP\"\n",
    "assert reverse(\"\") == \"\"\n",
    "assert reverse(\"a\") == \"a\""
   ]
  },
  {
   "cell_type": "markdown",
   "metadata": {},
   "source": [
    "## String formatting\n",
    "\n",
    "Strings can be combined with other data using f-strings or `.format()`"
   ]
  },
  {
   "cell_type": "code",
   "execution_count": null,
   "metadata": {},
   "outputs": [],
   "source": [
    "day = 'Monday'\n",
    "RH  = 50.\n",
    "\n",
    "# Insert variables into a string; \n",
    "# This is an \"f-string\" because it begins with f'\n",
    "message = f'The relative humidity on {day} was {RH}%'\n",
    "print( message )"
   ]
  },
  {
   "cell_type": "code",
   "execution_count": null,
   "metadata": {},
   "outputs": [],
   "source": [
    "# Control the number of decimal places\n",
    "message = f'The relative humidity on {day} was {RH:.3f}%'\n",
    "print( message )"
   ]
  },
  {
   "cell_type": "code",
   "execution_count": null,
   "metadata": {},
   "outputs": [],
   "source": [
    "# Same result, using the format() method\n",
    "template = 'The relative humidity on {} was {:.3f}%'\n",
    "print( template.format(day, RH) )"
   ]
  },
  {
   "cell_type": "markdown",
   "metadata": {},
   "source": [
    "There are *a lot* of formatting options. See textbook §3.2 for all options.\n",
    "\n",
    "The formatting syntax is\n",
    "`{[varname]:[alignment][width][.precision][type]}`.\n",
    "\n",
    "The most commonly used options are\n",
    "* `[]` indicates an optional item\n",
    "* `varname` is the name of the variable to be formatted (necessary with f-strings; optional with `format()` method.\n",
    "* `alignment` can be `<` (left align), `>` (right align), `=`, `^` (centered)\n",
    "* `width` integer number of characters for variable\n",
    "* `precision` number of digits of precisions\n",
    "* `type` can be `f` (fixed decimal point), `e` (scientific notation), `%` (percent), `d` (integer), `s` (string). (see reference for other options)\n",
    "\n",
    "An example using all of these would be `{varname:<10.2e}`, which says that the variable 'varname' should be displayed with alignment <, width 10, precision 2, and type e.\n"
   ]
  },
  {
   "cell_type": "markdown",
   "metadata": {},
   "source": [
    "#### Exercise \n",
    "\n",
    "With this exercise, you will gain experience with how the different format specifiers affect the way numbers are displayed.\n",
    "1. Create an f-string that says `'My favorite number is {number}'`\n",
    "2. Modify your f-string to use `precision` 5 and `type` f: `{number:.5f}`\n",
    "3. Test other values for `precision` and `type`. \n",
    "4. Add a `width` value and try 5, 10, and 20.\n",
    "5. Set the `width` to 20 and add an `alignment`, trying < and >.  \n",
    "\n"
   ]
  },
  {
   "cell_type": "code",
   "execution_count": null,
   "metadata": {},
   "outputs": [],
   "source": [
    "number = 123456.789\n",
    "# Write your code here\n",
    "print(f'My favorite number is {number:>5.3e}')"
   ]
  },
  {
   "cell_type": "markdown",
   "metadata": {},
   "source": [
    "# Lists"
   ]
  },
  {
   "cell_type": "code",
   "execution_count": null,
   "metadata": {},
   "outputs": [],
   "source": [
    "l1 = ['dog','cat','bird','fish']\n",
    "\n",
    "type(l1)"
   ]
  },
  {
   "cell_type": "code",
   "execution_count": null,
   "metadata": {},
   "outputs": [],
   "source": [
    "# Length of a list\n",
    "len(l1)"
   ]
  },
  {
   "cell_type": "code",
   "execution_count": null,
   "metadata": {},
   "outputs": [],
   "source": [
    "# Test for items in a list\n",
    "'cat' in l1"
   ]
  },
  {
   "cell_type": "code",
   "execution_count": null,
   "metadata": {},
   "outputs": [],
   "source": [
    "# Change an item in a list\n",
    "l1[0] = 'giraffe'\n",
    "l1"
   ]
  },
  {
   "cell_type": "markdown",
   "metadata": {},
   "source": [
    "## Concatenation & repetition\n",
    "\n",
    "Lists add/concatenate and multiply/repeat just like strings \n",
    "\n",
    "(Implication: Lists aren't for doing math or vectors. We'll use arrays for that later.)"
   ]
  },
  {
   "cell_type": "code",
   "execution_count": null,
   "metadata": {},
   "outputs": [],
   "source": [
    "# Concatenate two lists\n",
    "l2 = [1,2,3]\n",
    "l1 + l2"
   ]
  },
  {
   "cell_type": "code",
   "execution_count": null,
   "metadata": {},
   "outputs": [],
   "source": [
    "# Repeat a list\n",
    "l1 * 2"
   ]
  },
  {
   "cell_type": "markdown",
   "metadata": {},
   "source": [
    "## List indexing\n",
    "\n",
    "Lists can be indexed in the same way as strings, which is why it is so important to learn the indexing syntax."
   ]
  },
  {
   "cell_type": "code",
   "execution_count": null,
   "metadata": {},
   "outputs": [],
   "source": [
    "# 3rd list item and everything that follows\n",
    "l1[2:]"
   ]
  },
  {
   "cell_type": "markdown",
   "metadata": {},
   "source": [
    "## List methods\n",
    "\n",
    "List have many methods"
   ]
  },
  {
   "cell_type": "code",
   "execution_count": null,
   "metadata": {},
   "outputs": [],
   "source": [
    "# Lists have many methods\n",
    "l1.sort()\n",
    "print( l1 )\n",
    "\n",
    "# Notice that the list changed itself; The following would be incorrect\n",
    "# l1 = l1.sort()"
   ]
  },
  {
   "cell_type": "code",
   "execution_count": null,
   "metadata": {},
   "outputs": [],
   "source": [
    "# .append() adds an item to the end of a list\n",
    "l1.append('turtle')\n",
    "l1"
   ]
  },
  {
   "cell_type": "code",
   "execution_count": null,
   "metadata": {},
   "outputs": [],
   "source": [
    "# .pop() removes the last item in a list\n",
    "popitem = l1.pop()\n",
    "print( f'Removed {popitem}. List is now {l1}' )"
   ]
  },
  {
   "cell_type": "markdown",
   "metadata": {},
   "source": [
    "Some useful list methods (not all)\n",
    "\n",
    "__list.append(x)__ Add an item to the end of the list. Equivalent to a[len(a):] = [x].\n",
    "\n",
    "__list.extend(L)__ \n",
    "Extend the list by appending all the items in the given list. Equivalent to a[len(a):] = L.\n",
    "\n",
    "__list.insert(i, x)__ Insert an item at a given position. The first argument is the index of the element before which to insert, so a.insert(0, x) inserts at the front of the list, and a.insert(len(a), x) is equivalent to a.append(x).\n",
    "\n",
    "__list.remove(x)__ Remove the first item from the list whose value is x. It is an error if there is no such item.\n",
    "\n",
    "__list.pop([i])__ Remove the item at the given position in the list, and return it. If no index is specified, a.pop() removes and returns the last item in the list. (The square brackets around the i in the method signature denote that the parameter is optional, not that you should type square brackets at that position. You will see this notation frequently in the Python Library Reference.)\n",
    "\n",
    "__list.clear()__ Remove all items from the list. Equivalent to del a[:].\n",
    "\n",
    "__list.index(x)__ Return the index in the list of the first item whose value is x. It is an error if there is no such item.\n",
    "\n",
    "__list.count(x)__ Return the number of times x appears in the list.\n",
    "\n",
    "__list.sort()__ Sort the items of the list in place.\n",
    "\n",
    "__list.reverse()__ Reverse the elements of the list in place.\n",
    "\n",
    "__list.copy()__ Return a shallow copy of the list. Equivalent to a[:]."
   ]
  },
  {
   "cell_type": "markdown",
   "metadata": {},
   "source": [
    "#### Exercise\n",
    "\n",
    "1. Create a list with these items: 'a', 'b', 'c'\n",
    "2. Concatenate or append these additional items to your list: 5, 6, 7. (There's more than one way to do this.)\n",
    "4. Use the `insert()` method to put 'd' at index 1. (Remember you can use `?` to get help with functions, but the function is also explained above.\n",
    "5. Use the `remove()` method to delete 'b' from the list."
   ]
  },
  {
   "cell_type": "code",
   "execution_count": null,
   "metadata": {},
   "outputs": [],
   "source": [
    "# Write your code here"
   ]
  },
  {
   "cell_type": "markdown",
   "metadata": {},
   "source": [
    "## List comprehension\n",
    "\n",
    "A concise way to define lists. The syntax is similar to set notation:\n",
    "$$ S = \\{ i^2 | 0\\leq i \\lt 5 \\} $$"
   ]
  },
  {
   "cell_type": "code",
   "execution_count": null,
   "metadata": {},
   "outputs": [],
   "source": [
    "squares = [ i**2 for i in range(5) ]\n",
    "squares"
   ]
  },
  {
   "cell_type": "code",
   "execution_count": null,
   "metadata": {},
   "outputs": [],
   "source": [
    "# List comprehension can also use conditionals\n",
    "# Squares of the odd numbers < 10\n",
    "odd_squares = [ i**2 for i in range(10)\n",
    "                        if (i % 2) == 1 ]\n",
    "odd_squares"
   ]
  },
  {
   "cell_type": "code",
   "execution_count": null,
   "metadata": {},
   "outputs": [],
   "source": [
    "# List comprehension to operate on all elements in a list\n",
    "string_squares = [ str(num) for num in squares ]\n",
    "string_squares"
   ]
  },
  {
   "cell_type": "markdown",
   "metadata": {},
   "source": [
    "#### Exercise\n",
    "\n",
    "Using list comprehension, create a list that contains the square roots of positive integers up to 5."
   ]
  },
  {
   "cell_type": "code",
   "execution_count": null,
   "metadata": {},
   "outputs": [],
   "source": [
    "# Write your code here"
   ]
  },
  {
   "cell_type": "markdown",
   "metadata": {},
   "source": [
    "# Tuples\n",
    "\n",
    "Tuples are very similar to lists, but they are ***immutable***, meaning that their contents *cannot* be changed. "
   ]
  },
  {
   "cell_type": "code",
   "execution_count": null,
   "metadata": {},
   "outputs": [],
   "source": [
    "# Define a tuple with parentheses or just commas\n",
    "t = ('meteorology', 42, False)\n",
    "u = 'geography', 7, True\n",
    "type(t)"
   ]
  },
  {
   "cell_type": "code",
   "execution_count": null,
   "metadata": {},
   "outputs": [],
   "source": [
    "# Tuples are indexed like lists and strings\n",
    "print(t[1])"
   ]
  },
  {
   "cell_type": "code",
   "execution_count": null,
   "metadata": {},
   "outputs": [],
   "source": [
    "# Unpack a tuple into separate variables\n",
    "course, enrollment, status = t"
   ]
  },
  {
   "cell_type": "code",
   "execution_count": null,
   "metadata": {},
   "outputs": [],
   "source": [
    "# Attempting to change an item in a tuple causes an error. Remember they are immutable\n",
    "t[1] = 50"
   ]
  },
  {
   "cell_type": "markdown",
   "metadata": {},
   "source": [
    "Tuples are typically used to pack multiple variables into one object, which can be unpacked later in the code. "
   ]
  },
  {
   "cell_type": "markdown",
   "metadata": {},
   "source": [
    "# Dictionary `dict`\n",
    "\n",
    "Dictionaries are extremely useful for organizing data. They map ***keys*** to ***data***."
   ]
  },
  {
   "cell_type": "code",
   "execution_count": null,
   "metadata": {},
   "outputs": [],
   "source": [
    "# There are two ways to define dictionaries\n",
    "# In this example, the *keys* are 'name','legs','extinct'\n",
    "d = dict(name='dog',\n",
    "         legs=4,\n",
    "         extinct=False)\n",
    "\n",
    "e = {'name': 'dodo', \n",
    "     'legs': 2, \n",
    "     'extinct': True }\n",
    "\n",
    "e"
   ]
  },
  {
   "cell_type": "code",
   "execution_count": null,
   "metadata": {},
   "outputs": [],
   "source": [
    "# Access a value in a dict using its key\n",
    "d['name']"
   ]
  },
  {
   "cell_type": "markdown",
   "metadata": {},
   "source": [
    "Square brackets `[...]` in Python generally mean \"get item\". (e.g. in lists, strings, tuples, dicts)"
   ]
  },
  {
   "cell_type": "code",
   "execution_count": null,
   "metadata": {},
   "outputs": [],
   "source": [
    "# Test if a dict has a particular key\n",
    "'legs' in d"
   ]
  },
  {
   "cell_type": "code",
   "execution_count": null,
   "metadata": {},
   "outputs": [],
   "source": [
    "# Add a new key to a dictionary\n",
    "# The values can be any data type\n",
    "d['breeds'] = ('retriever', 'poodle', 'beagle') \n",
    "d"
   ]
  },
  {
   "cell_type": "code",
   "execution_count": null,
   "metadata": {},
   "outputs": [],
   "source": [
    "# Iterate over keys\n",
    "for key in d:\n",
    "    print(key, d[key])\n",
    "\n",
    "print('')\n",
    "\n",
    "# A better way to iterate over dict items\n",
    "for key, value in d.items():\n",
    "    print(key, value)"
   ]
  },
  {
   "cell_type": "markdown",
   "metadata": {},
   "source": [
    "**Exercise**\n",
    "\n",
    "Define a dictionary with keys 'name', 'age', and 'height'. Enter your info as the values (or make them up)."
   ]
  },
  {
   "cell_type": "code",
   "execution_count": null,
   "metadata": {},
   "outputs": [],
   "source": [
    "# Write your code here"
   ]
  },
  {
   "cell_type": "markdown",
   "metadata": {},
   "source": [
    "# Summary of Python collection types\n",
    "\n",
    "1. `str` ordered/indexed, immutable\n",
    "1. `list` ordered/indexed, mutable\n",
    "3. `tuple` ordered/indexed, immutable\n",
    "4. `dict` paired key:value, unordered/unindexed, mutable, no duplicate keys\n",
    "5. `set` unordered/unindexed, mutable, no duplicate elements (less common)\n"
   ]
  },
  {
   "cell_type": "markdown",
   "metadata": {},
   "source": [
    "# Review Questions\n",
    "\n",
    "What output do the following produce\n",
    "```\n",
    " \"Python\"[1]\n",
    " \"Strings are sequences of characters.\"[5]\n",
    " len(\"wonderful\")\n",
    " \"Mystery\"[:4]\n",
    " \"p\" in \"Pineapple\"\n",
    " \"apple\" in \"Pineapple\"\n",
    " \"pear\" not in \"Pineapple\"\n",
    " \"apple\" < \"pineapple\"\n",
    " \"Pineapple\" < \"pineapple\"\n",
    "```"
   ]
  },
  {
   "cell_type": "markdown",
   "metadata": {},
   "source": [
    "### Type identification\n",
    "\n",
    "What type is the variable x?\n",
    "\n",
    "1. `x = [1,2,3]`\n",
    "2. `x = 1,2,3`\n",
    "3. `x = '[1,2,3]'`\n",
    "4. `x = ('fog','rain','snow')`\n",
    "5. `x = {'precip':'snow'}`"
   ]
  },
  {
   "cell_type": "markdown",
   "metadata": {},
   "source": [
    "### Read code - lists & tuples\n",
    "\n",
    "\n",
    "What output will the following produce or will and error occur?\n",
    "\n",
    "---\n",
    "```\n",
    "['a','b','c','d'][1]\n",
    "```\n",
    "---\n",
    "```\n",
    "['a','b','c','d'][::2]\n",
    "```\n",
    "---\n",
    "```\n",
    "l = ['a','b','c','d']\n",
    "l[2] = 'x'\n",
    "print(l)\n",
    "```\n",
    "---\n",
    "```\n",
    "('a','b','c','d')[1]\n",
    "```\n",
    "---\n",
    "```\n",
    "('a','b','c','d')[::-1]\n",
    "```\n",
    "---\n",
    "```\n",
    "t = ('a','b','c','d')\n",
    "t[2] = 'x'\n",
    "print(t)\n",
    "```\n",
    "---\n",
    "```\n",
    "[ 2*x for x in range(5) ]\n",
    "```\n",
    "---\n",
    "\n"
   ]
  },
  {
   "cell_type": "markdown",
   "metadata": {},
   "source": [
    "### Read code - dictionaries\n",
    "\n",
    "Assume that a variable `d` is defined as\n",
    "```\n",
    "d = {\"apples\": 15, \"bananas\": 35, \"grapes\": 12}\n",
    "```\n",
    "\n",
    "What output will the following produce or will an error occur?\n",
    "\n",
    "---\n",
    "```\n",
    "d[\"bananas\"]\n",
    "```\n",
    "---\n",
    "```\n",
    "len(d)\n",
    "```\n",
    "---\n",
    "```\n",
    "d[0]\n",
    "```\n",
    "---\n",
    "```\n",
    "d[\"pears\"]\n",
    "```\n",
    "---\n",
    "```\n",
    "d[\"oranges\"] = 10\n",
    "d[\"oranges\"]\n",
    "```\n",
    "---"
   ]
  },
  {
   "cell_type": "code",
   "execution_count": null,
   "metadata": {},
   "outputs": [],
   "source": []
  },
  {
   "cell_type": "code",
   "execution_count": null,
   "metadata": {},
   "outputs": [],
   "source": []
  }
 ],
 "metadata": {
  "kernelspec": {
   "display_name": "Python 3 (ipykernel)",
   "language": "python",
   "name": "python3"
  },
  "language_info": {
   "codemirror_mode": {
    "name": "ipython",
    "version": 3
   },
   "file_extension": ".py",
   "mimetype": "text/x-python",
   "name": "python",
   "nbconvert_exporter": "python",
   "pygments_lexer": "ipython3",
   "version": "3.12.7"
  }
 },
 "nbformat": 4,
 "nbformat_minor": 4
}
