{
 "cells": [
  {
   "cell_type": "code",
   "execution_count": null,
   "metadata": {},
   "outputs": [],
   "source": [
    "import numpy as np"
   ]
  },
  {
   "cell_type": "markdown",
   "metadata": {},
   "source": [
    "# Floating-point numbers\n",
    "\n",
    "Floating-point numbers consist of a significand or mantissa and exponent.\n",
    "\n",
    "Example with 5-digits for significand (base-10):\n",
    "\n",
    "$ 12.345 = \\underbrace{12345}_\\text{significand} \n",
    "\\times \\underbrace{10}_\\text{base}\\overbrace{^{-3}}^\\text{exponent}$\n",
    "\n",
    "Some numbers cannot be represented exactly with 5 digits (e.g. $7716/625 = 12.3456$) so they are rounded to the nearest number that can be represented.\n",
    "\n",
    "Python floats are 64-bits and base-2 (\"double precision\" in C, Fortran), corresponding to 15 decimal digits and exponents of -308 to +308."
   ]
  },
  {
   "cell_type": "code",
   "execution_count": null,
   "metadata": {},
   "outputs": [],
   "source": [
    "# Both of these should equal 1, \n",
    "# but 1/49 cannot be represented exactly as a float\n",
    "print(1/51. * 51)\n",
    "print(1/49. * 49)"
   ]
  },
  {
   "cell_type": "code",
   "execution_count": null,
   "metadata": {},
   "outputs": [],
   "source": [
    "# Neither 0.1, nor 0.2 can be represented exactly as a  float\n",
    "a = 0.1\n",
    "b = 0.2\n",
    "print(a+b)"
   ]
  },
  {
   "cell_type": "code",
   "execution_count": null,
   "metadata": {},
   "outputs": [],
   "source": [
    "# Exact comparisons of floats can fail because of roundoff\n",
    "c = 0.1 + 0.2\n",
    "d = 0.3\n",
    "print( c == d )"
   ]
  },
  {
   "cell_type": "code",
   "execution_count": null,
   "metadata": {},
   "outputs": [],
   "source": [
    "# Use a tolerance when testing for equality of floats\n",
    "print( np.abs(c-d) < 1e-10 )\n",
    "\n",
    "# Numpy has a function for testing if two floats are close\n",
    "print( np.isclose( c, d, rtol=1e-10 ) )"
   ]
  },
  {
   "cell_type": "markdown",
   "metadata": {},
   "source": [
    "### Special float values\n",
    "\n",
    "***Overflow*** occurs when the maximum exponent (+308) is exceeded. The value becomes `inf`.\n",
    "\n",
    "***Underflow*** occurs when the minimum exponent is exceeded. The value becomes `0`.\n",
    "\n",
    "***NaN*** (not a number) occurs when dividing by zero or multiplying `inf*0`. Sometimes used to mark missing data. "
   ]
  },
  {
   "cell_type": "code",
   "execution_count": null,
   "metadata": {},
   "outputs": [],
   "source": [
    "# Overflow\n",
    "print( 1e300 * 1e30, \n",
    "      -1e300 * 1e30 )"
   ]
  },
  {
   "cell_type": "code",
   "execution_count": null,
   "metadata": {},
   "outputs": [],
   "source": [
    "# Underflow\n",
    "print( 1e-300 * 1e-30, \n",
    "      -1e-300 * 1e-30 )"
   ]
  },
  {
   "cell_type": "code",
   "execution_count": null,
   "metadata": {},
   "outputs": [],
   "source": [
    "# Specify inf and NaN\n",
    "print( np.inf, \n",
    "      -np.inf, \n",
    "      np.nan )"
   ]
  },
  {
   "cell_type": "code",
   "execution_count": null,
   "metadata": {},
   "outputs": [],
   "source": [
    "# Operations producing NaN\n",
    "print( 1e300 * 1e30 * 0,\n",
    "        np.inf * 0,\n",
    "        np.inf - np.inf,\n",
    "        np.inf / np.inf, )"
   ]
  },
  {
   "cell_type": "code",
   "execution_count": null,
   "metadata": {},
   "outputs": [],
   "source": [
    "# Any operation with NaN results in NaN\n",
    "print(  2 * np.nan,\n",
    "        2 + np.nan, )"
   ]
  },
  {
   "cell_type": "markdown",
   "metadata": {},
   "source": [
    "### Key messages\n",
    "* Floating-point calculations are *inexact* because of rounding. The effect is usually small, but rounding errors can sometimes accumulate (advanced topic).\n",
    "* Floating-point numbers should be compared within a tolerance, not exact equality.\n",
    "* Integer values are discrete. They don't have roundoff error and it's fine to test if two integers are equal (e.g. `i == j`)"
   ]
  },
  {
   "cell_type": "code",
   "execution_count": null,
   "metadata": {},
   "outputs": [],
   "source": []
  }
 ],
 "metadata": {
  "kernelspec": {
   "display_name": "Python 3 (ipykernel)",
   "language": "python",
   "name": "python3"
  },
  "language_info": {
   "codemirror_mode": {
    "name": "ipython",
    "version": 3
   },
   "file_extension": ".py",
   "mimetype": "text/x-python",
   "name": "python",
   "nbconvert_exporter": "python",
   "pygments_lexer": "ipython3",
   "version": "3.12.8"
  }
 },
 "nbformat": 4,
 "nbformat_minor": 4
}
