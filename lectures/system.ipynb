{
 "cells": [
  {
   "cell_type": "markdown",
   "id": "06fb4e2b-9181-4ef5-9a42-ddabc5ad9ff2",
   "metadata": {},
   "source": [
    "# Filesystem\n",
    "\n",
    "Reading and writing files requires some understanding of the computer's filesystem.\n",
    "\n",
    "Example directory structure (Linux, Unix, MacOS)\n",
    "```\n",
    "/                    # Root\n",
    "  home/              # Directory or Folder\n",
    "    alice/           # Sub-directory or Sub-folder\n",
    "      fileA.csv\n",
    "      project1/\n",
    "        fileB.csv\n",
    "        fileC.csv\n",
    "      project2/\n",
    "        fileD.csv\n",
    "    bob/\n",
    "      file1.txt\n",
    "      projectA/\n",
    "        file2.txt\n",
    "```\n",
    "Windows uses `\\` instead of `/` and root is `C:\\`\n",
    "\n",
    "### Absolute and relative paths\n",
    "\n",
    "***Absolute paths*** start with the root directory (`/` or `C:\\`)\n",
    "* The *absolute path* to fileA.csv is `/home/alice/fileA.csv` (*nix, MacOS) or `C:\\home\\alice\\fileA.csv` (Windows)\n",
    "\n",
    "***Relative paths*** start from the current directory, not root.\n",
    "\n",
    "If the current directory is `alice/`...\n",
    "* the *relative path* to fileA.csv is `fileA.csv` \n",
    "* the *relative path* to fileB.csv is `project1/fileB.csv`  (Windows: `project1\\fileB.csv`)\n",
    "\n",
    "Shortcuts in relative paths:\n",
    "* `.` means current directory\n",
    "* `..` means parent of current directory\n",
    "\n",
    "If the current directory is `project1/`...\n",
    "* the *relative path* to fileA.csv is `../fileA.csv`  \n",
    "\n",
    "#### Exercise (basic)\n",
    "* What is the absolute path to file2.txt?\n",
    "* What is the relative path from `bob/` to file2.txt?\n",
    "* What is the relative path from `projectA/` to file1.txt?\n",
    "\n",
    "#### Exercise (advanced)\n",
    "* What is the relative path from `project2/` to fileA.csv?\n",
    "* What is the relative path from `project2/` to file1.txt?"
   ]
  },
  {
   "cell_type": "markdown",
   "id": "72258a0c-848f-425c-a39d-5a032827e0cf",
   "metadata": {},
   "source": [
    "## Navigating the filesystem in Python\n",
    "\n",
    "The `os` module provides functions for navigating the filesystem."
   ]
  },
  {
   "cell_type": "code",
   "execution_count": null,
   "id": "99c4d20b-388b-44b1-b9ca-a6f502d00982",
   "metadata": {},
   "outputs": [],
   "source": [
    "import os\n",
    "\n",
    "# Current working directory\n",
    "os.getcwd()"
   ]
  },
  {
   "cell_type": "code",
   "execution_count": null,
   "id": "e2a7b9b0-3bb5-4c28-a42e-6bbf51b4d455",
   "metadata": {},
   "outputs": [],
   "source": [
    "# Change working directory to 'datasets' subdirectory\n",
    "os.chdir('datasets')\n",
    "# os.chdir() also works with absolute paths\n",
    "\n",
    "# Show the new location\n",
    "os.getcwd()"
   ]
  },
  {
   "cell_type": "code",
   "execution_count": null,
   "id": "fd011b7b-acc8-4160-980b-2a976badbaf0",
   "metadata": {},
   "outputs": [],
   "source": [
    "# Change back to parent directory\n",
    "os.chdir('..')"
   ]
  },
  {
   "cell_type": "code",
   "execution_count": null,
   "id": "2090e171-c643-44ba-8901-94d7c9a1a262",
   "metadata": {},
   "outputs": [],
   "source": [
    "# List contents (files and subdirectories) of current directory\n",
    "os.listdir()"
   ]
  },
  {
   "cell_type": "code",
   "execution_count": null,
   "id": "99c60c9e-2f5c-4bf3-9775-5f0dabd47efe",
   "metadata": {},
   "outputs": [],
   "source": [
    "# List contents of a particular directory\n",
    "os.listdir(path='datasets')\n",
    "# absolute paths work too"
   ]
  },
  {
   "cell_type": "markdown",
   "id": "d47661ea-efc3-41d9-a6ff-05f61580927b",
   "metadata": {},
   "source": [
    "The `os.path` module contains functions to work with file paths."
   ]
  },
  {
   "cell_type": "code",
   "execution_count": null,
   "id": "d503daa4-1c25-4815-afa3-de679a99d780",
   "metadata": {},
   "outputs": [],
   "source": [
    "# Path to a file that may or may not exist\n",
    "path = 'datasets/titanic.csv'\n",
    "\n",
    "# Check if the file or directory exists\n",
    "if os.path.exists(path):\n",
    "    print('The file or directory exists!')"
   ]
  },
  {
   "cell_type": "code",
   "execution_count": null,
   "id": "59783e25-8cba-4137-b598-238f3e774230",
   "metadata": {},
   "outputs": [],
   "source": [
    "# Split a path into its directory and file names\n",
    "print(f'Filename:  {os.path.basename(path)}')\n",
    "print(f'Directory: {os.path.dirname(path)}')"
   ]
  },
  {
   "cell_type": "markdown",
   "id": "bbb64c19-ade5-4dd2-8353-8b90989b9419",
   "metadata": {},
   "source": [
    "### Find files matching a pattern with `glob`\n",
    "\n",
    "Sometimes we want to find just files that match a pattern, for example all of the files ending in '.csv'. The [`glob`](https://docs.python.org/3/library/glob.html) module does this.\n",
    "\n",
    "Wildcard pattern matching rules\n",
    "* `?` matches any *single* character\n",
    "* `*` matches one or more characters\n",
    "* `[1-4]` matches numbers 1, 2, 3, or 4\n",
    "* `[c-e]` matches letters c, d, or e\n",
    "* `[C-E]` matches letters C, D, or E\n",
    "\n",
    "Examples\n",
    "* `*.csv` is all files ending with '.csv'\n",
    "* `file[2-4].csv` will find file2.csv, file3.csv, and file4.csv, but not file1.csv.\n",
    "* `glob.glob('*')` finds all files, same as `os.listdir()` \n",
    "\n",
    "`glob` returns an *unsorted* list"
   ]
  },
  {
   "cell_type": "code",
   "execution_count": null,
   "id": "72a1e520-d104-48b9-9f3b-43f06628b9e7",
   "metadata": {},
   "outputs": [],
   "source": [
    "import glob\n",
    "\n",
    "# Find all files with extension .ipynb\n",
    "ipynb_files = glob.glob('*.ipynb')\n",
    "\n",
    "# Sort the filenames\n",
    "ipynb_files.sort()\n",
    "\n",
    "print(ipynb_files)"
   ]
  },
  {
   "cell_type": "markdown",
   "id": "13649a85-0514-4e7c-bad8-d41eb6fc1bd8",
   "metadata": {},
   "source": [
    "#### Exercise\n",
    "\n",
    "Write a `glob` command to find files that match these patterns\n",
    "* all files containing the letter 'm' in the current directory.\n",
    "* all files containing 'm'\n",
    "* all files containing 'm' and ending with '.ipynb'\n",
    "* all files in the 'datasets' subdirectory"
   ]
  },
  {
   "cell_type": "code",
   "execution_count": null,
   "id": "0de2b665-3e85-432d-896a-6ef6b57a8b60",
   "metadata": {},
   "outputs": [],
   "source": [
    "# Test your code here"
   ]
  },
  {
   "cell_type": "markdown",
   "id": "64351f6b-2ae8-4a8e-98d8-1eb1f7c80200",
   "metadata": {},
   "source": [
    "# Magic commands\n",
    "\n",
    "Jupyter [\"magic commands\"](https://ipython.readthedocs.io/en/stable/interactive/magics.html) enable limited interaction with the operating system outside of Python. They work within Jupyter notebooks and IPython, but not in pure Python programs. Magic commands begin with `%` or `%%`. \n",
    "\n",
    "| Command | Purpose, Example |\n",
    "|---------|---------|\n",
    "| `%pwd`   | print current working directory |\n",
    "| `%ls`    | list contents of the current directory |\n",
    "| `%cd`    | change current working directory |\n",
    "|          | `%cd datasets` |\n",
    "|          | `%cd -` (last visited directory)|\n",
    "| `%conda` | run the conda package manager |\n",
    "|          | `%conda install xarray` |\n",
    "| `%timeit` | time execution of single command |\n",
    "|           | `%timeit import numpy as np` |\n",
    "| `%%timeit` | time execution of a cell |\n",
    "| `%who` | list all variables |\n",
    "| `%whos`| list all variables, with more info|\n",
    "\n",
    "See [documentation](https://ipython.readthedocs.io/en/stable/interactive/magics.html) for other magic commands"
   ]
  },
  {
   "cell_type": "code",
   "execution_count": null,
   "id": "b9330199-1d6f-48ef-a76a-2647faca606b",
   "metadata": {},
   "outputs": [],
   "source": [
    "# Current working directory\n",
    "%pwd"
   ]
  },
  {
   "cell_type": "code",
   "execution_count": null,
   "id": "1d832bb5-b737-4720-8ecc-997d68e1db62",
   "metadata": {},
   "outputs": [],
   "source": [
    "# Contents of current directory\n",
    "%ls"
   ]
  },
  {
   "cell_type": "code",
   "execution_count": null,
   "id": "d9c2d74e-68fa-4899-8ac9-8b9d1ebb8f0e",
   "metadata": {},
   "outputs": [],
   "source": [
    "# Change directory\n",
    "%cd datasets"
   ]
  },
  {
   "cell_type": "code",
   "execution_count": null,
   "id": "2388aa71-4487-4437-a361-3cb971d94e23",
   "metadata": {},
   "outputs": [],
   "source": [
    "# Content of new directory\n",
    "%ls"
   ]
  },
  {
   "cell_type": "code",
   "execution_count": null,
   "id": "bfc628cf-2cd6-4fa7-9b28-455dd69cf021",
   "metadata": {},
   "outputs": [],
   "source": [
    "# Change to previous directory\n",
    "%cd -"
   ]
  },
  {
   "cell_type": "code",
   "execution_count": null,
   "id": "d000cb8f-a89a-4244-b637-d8bc085433f4",
   "metadata": {},
   "outputs": [],
   "source": [
    "%%timeit\n",
    "l = []\n",
    "for i in range(1000):\n",
    "    l.append(i**2)"
   ]
  }
 ],
 "metadata": {
  "kernelspec": {
   "display_name": "Python 3 (ipykernel)",
   "language": "python",
   "name": "python3"
  },
  "language_info": {
   "codemirror_mode": {
    "name": "ipython",
    "version": 3
   },
   "file_extension": ".py",
   "mimetype": "text/x-python",
   "name": "python",
   "nbconvert_exporter": "python",
   "pygments_lexer": "ipython3",
   "version": "3.13.2"
  }
 },
 "nbformat": 4,
 "nbformat_minor": 5
}
