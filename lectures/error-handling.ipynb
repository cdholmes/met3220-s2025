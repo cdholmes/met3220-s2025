{
 "cells": [
  {
   "cell_type": "markdown",
   "id": "f542eb1a-93be-4ef2-b550-08b42cbba148",
   "metadata": {},
   "source": [
    "# Errors and Exceptions\n",
    "\n",
    "When a runtime error occurs, Python creates an ***exception***, stops running, and prints a *traceback*."
   ]
  },
  {
   "cell_type": "code",
   "execution_count": null,
   "id": "6305aa5c-dbb6-4624-8edd-5701433117d2",
   "metadata": {},
   "outputs": [],
   "source": [
    "# Division by zero creates an exception\n",
    "print(10/0)"
   ]
  },
  {
   "cell_type": "code",
   "execution_count": null,
   "id": "b3ad4b83-aa0e-414c-a456-d7fd8540e8f9",
   "metadata": {},
   "outputs": [],
   "source": [
    "# Accessing a non-existent list item generates an exception\n",
    "a = [1,2]\n",
    "print(a[5])\n"
   ]
  },
  {
   "cell_type": "markdown",
   "id": "99fb1d78-febc-4c15-9a9f-592ab976c50d",
   "metadata": {},
   "source": [
    "## Handling exceptions\n",
    "\n",
    "Sometimes we want the program to ***handle*** (i.e. deal with) an exception without stopping.\n",
    "\n",
    "This is done with `try ... except`\n"
   ]
  },
  {
   "cell_type": "code",
   "execution_count": null,
   "id": "971d529a-3eeb-4816-a8ec-b29c5f9f278e",
   "metadata": {},
   "outputs": [],
   "source": [
    "a = 10\n",
    "b = 0\n",
    "\n",
    "try:\n",
    "    c = a / b\n",
    "\n",
    "except ZeroDivisionError:\n",
    "    print('Handling division by zero')\n",
    "    \n",
    "    # Treat the result as an extremely large number\n",
    "    c = 1e300\n",
    "\n",
    "print(c)"
   ]
  },
  {
   "cell_type": "markdown",
   "id": "321b6b0e-0545-47ec-bac7-41c59917e849",
   "metadata": {},
   "source": [
    "The full syntax for `try ... except ... finally` is\n",
    "\n",
    "```Python\n",
    "try:\n",
    "    # Code block\n",
    "\n",
    "except ArithmeticError:\n",
    "    # Alternate code block executed when ArithmeticError occurs\n",
    "\n",
    "except:\n",
    "    # Alternate code block executed when any other error occurs\n",
    "\n",
    "finally: # Optional\n",
    "    # Code executed no matter what\n",
    "```"
   ]
  },
  {
   "cell_type": "markdown",
   "id": "d7e5c180-650e-4012-b892-7f8a51339ce0",
   "metadata": {},
   "source": [
    "#### Exercise\n",
    "\n",
    "Add a `try ... except` statement to the following code cell so that it handles an `IndexError` and displays \"The index is out of range\"."
   ]
  },
  {
   "cell_type": "code",
   "execution_count": null,
   "id": "9cb6c128-dd15-417c-9556-d724da20c0ef",
   "metadata": {},
   "outputs": [],
   "source": [
    "letters = ['a','b','c','d']\n",
    "index = 5\n",
    "print(letters[index])\n"
   ]
  },
  {
   "cell_type": "markdown",
   "id": "c2d35133-a6d0-4e78-8525-fb0038e90957",
   "metadata": {},
   "source": [
    "## Raising an exception\n",
    "\n",
    "You can ***raise*** your own exceptions."
   ]
  },
  {
   "cell_type": "code",
   "execution_count": null,
   "id": "f5e91874-8f3b-48bd-8549-81f2c6f22dd0",
   "metadata": {},
   "outputs": [],
   "source": [
    "def kelvin2celsius(TK):\n",
    "    '''Convert temperature kelvin to Celsius'''\n",
    "    if TK<0:\n",
    "        raise ValueError(f'{TK} is not a valid temperature in kelvin')\n",
    "    \n",
    "    return TK - 273.15\n",
    "\n",
    "print(kelvin2celsius(-100))\n"
   ]
  },
  {
   "cell_type": "markdown",
   "id": "b8b5130f-4318-402c-a4a7-87c5fd3e28b5",
   "metadata": {},
   "source": [
    "## Learning more\n",
    "\n",
    "Complete list of [built-in exceptions](http://docs.python.org/py3k/library/exceptions.html) in the Python Library Reference\n",
    "\n",
    "[Tutorial on Errors and Exceptions ](https://docs.python.org/3/tutorial/errors.html#) from the creator of Python"
   ]
  },
  {
   "cell_type": "code",
   "execution_count": null,
   "id": "a5a76868-bd1a-4f5e-a215-00d1015f7f45",
   "metadata": {},
   "outputs": [],
   "source": []
  }
 ],
 "metadata": {
  "kernelspec": {
   "display_name": "Python 3 (ipykernel)",
   "language": "python",
   "name": "python3"
  },
  "language_info": {
   "codemirror_mode": {
    "name": "ipython",
    "version": 3
   },
   "file_extension": ".py",
   "mimetype": "text/x-python",
   "name": "python",
   "nbconvert_exporter": "python",
   "pygments_lexer": "ipython3",
   "version": "3.12.8"
  }
 },
 "nbformat": 4,
 "nbformat_minor": 5
}
