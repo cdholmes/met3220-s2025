{
 "cells": [
  {
   "cell_type": "markdown",
   "metadata": {},
   "source": [
    "## Jupyter Notebook\n",
    "\n",
    "This file is a Jupyter Notebook, which can be identified by a filename ending with `.ipynb`. Notebooks are divided into cells, which can contain either text or executable Python code. This cell contains text and the next one contains code. Notice that the fonts are distinctly different in text and code cells.\n",
    "\n",
    "We will use Jupyter Notebooks throughout this course because they allow explanations and code in the same document. \n",
    "\n",
    "A code cell can be executed by placing the cursor in the desired cell and pressing `Shift+Enter`. Try running the cell below, which will print the phrase, \"Hello, World!\" below the code cell."
   ]
  },
  {
   "cell_type": "code",
   "execution_count": null,
   "metadata": {},
   "outputs": [],
   "source": [
    "print('Hello, World!')"
   ]
  },
  {
   "cell_type": "markdown",
   "metadata": {},
   "source": [
    "In the cell above `print()` is a ***function*** that tells Python to display information on the screen.\n",
    "\n",
    "***Arguments*** or ***parameters*** are the things within the parentheses of a function.\n",
    "\n",
    "The `print()` function can accept many arguments. "
   ]
  },
  {
   "cell_type": "code",
   "execution_count": null,
   "metadata": {},
   "outputs": [],
   "source": [
    "print('The sum of 17 and 26 is ',  17+26)"
   ]
  },
  {
   "cell_type": "markdown",
   "metadata": {},
   "source": [
    "## Variables and assignment\n",
    "\n",
    "A ***variable*** is a symbolic name for a quantity or object, which can change over time. "
   ]
  },
  {
   "cell_type": "code",
   "execution_count": null,
   "metadata": {},
   "outputs": [],
   "source": [
    "a = 3\n",
    "pressure = 1013\n",
    "standard_acceleration_due_to_gravity = 9.81\n",
    "name = 'Alice'"
   ]
  },
  {
   "cell_type": "markdown",
   "metadata": {},
   "source": [
    "Variables can be used instead of literal constants in a program. Python will use the value stored in that variable name."
   ]
  },
  {
   "cell_type": "code",
   "execution_count": null,
   "metadata": {},
   "outputs": [],
   "source": [
    "print('Hello, ', name )"
   ]
  },
  {
   "cell_type": "code",
   "execution_count": null,
   "metadata": {},
   "outputs": [],
   "source": [
    "print( pressure + 10 )"
   ]
  },
  {
   "cell_type": "markdown",
   "metadata": {},
   "source": [
    "### Rules for Python variable names\n",
    "\n",
    "* Variable names can contain letters (upper and lower case), numerals, and underscore (_). \n",
    "* Variable names *cannot* start with a numeral\n",
    "* Don't start a variable name with underscore (_) until you learn more.\n",
    "* There are 32 reserved words that cannot be used as variable names. (See textbook § 2.2) Using one of these for a variable name will cause an error.\n",
    "\n",
    "Python is ***case sensitive***. For example, `pressure` is different from `Pressure`, and `Print('Hello World')` will generate an error."
   ]
  },
  {
   "cell_type": "code",
   "execution_count": null,
   "metadata": {},
   "outputs": [],
   "source": [
    "print(pressure)\n",
    "print(Pressure)"
   ]
  },
  {
   "cell_type": "markdown",
   "metadata": {},
   "source": [
    "### Guidelines for variable names\n",
    "\n",
    "* Make your variables names clear.\n",
    "* Be concise."
   ]
  },
  {
   "cell_type": "markdown",
   "metadata": {},
   "source": [
    "### `=` is Assignment\n",
    "\n",
    "In programming `=` means \"evaluate the right-hand side, then assign it to the left hand side.\""
   ]
  },
  {
   "cell_type": "code",
   "execution_count": null,
   "metadata": {},
   "outputs": [],
   "source": [
    "x = 1\n",
    "x = x + 1\n",
    "print( x )"
   ]
  },
  {
   "cell_type": "markdown",
   "metadata": {},
   "source": [
    "`x = x + 1` means \"Add 1 to the current value of `x` and assign that to `x`\".\n",
    "\n",
    "(In algebra, $x = x + 1$ would be false nonsense. There is no value of $x$ that equals $x+1$.)"
   ]
  },
  {
   "cell_type": "markdown",
   "metadata": {},
   "source": [
    "## Comments `#`\n",
    "\n",
    "***Comments*** are used to explain a program, but do not affect how the code runs. \n",
    "\n",
    "Python comments begin with `#`. Python ignores all text after `#` until the next line.\n",
    "\n",
    "Use comments *extensively* to explain variables, units, and the purpose of code. "
   ]
  },
  {
   "cell_type": "code",
   "execution_count": null,
   "metadata": {},
   "outputs": [],
   "source": [
    "# Specific gas constant for dry air, J/kg/K\n",
    "Rd = 287\n",
    "# air pressure, hPa\n",
    "pressure = 100000"
   ]
  },
  {
   "cell_type": "markdown",
   "metadata": {},
   "source": [
    "## Some Python Data Types: string and numeric\n",
    "\n",
    "The cells above already show that Python can represent several kinds of information.\n",
    "\n",
    "### String `str`\n",
    "\n",
    "Strings contain letters, numbers, and symbols. They can be defined with single quotes `' '`, double quotes `\" \"`, or triple quotes `''' '''`."
   ]
  },
  {
   "cell_type": "code",
   "execution_count": null,
   "metadata": {},
   "outputs": [],
   "source": [
    "string1 = 'a string'\n",
    "string2 = \"another string\"\n",
    "string3 = '''yet another string'''\n",
    "print( string1, string2, string3, sep='\\n' )"
   ]
  },
  {
   "cell_type": "code",
   "execution_count": null,
   "metadata": {},
   "outputs": [],
   "source": [
    "# Use double quotes if you want to include a single quote in the string\n",
    "string4 = \"This is Alice's string\""
   ]
  },
  {
   "cell_type": "markdown",
   "metadata": {},
   "source": [
    "### Boolean `bool`\n",
    "\n",
    "A boolean can be `True` or `False`. They are encountered when performing comparison tests. "
   ]
  },
  {
   "cell_type": "code",
   "execution_count": null,
   "metadata": {},
   "outputs": [],
   "source": [
    "print( 3 > 1 )"
   ]
  },
  {
   "cell_type": "code",
   "execution_count": null,
   "metadata": {},
   "outputs": [],
   "source": [
    "print( 10 < 1 )"
   ]
  },
  {
   "cell_type": "markdown",
   "metadata": {},
   "source": [
    "### Integer `int`\n",
    "\n",
    "The integer type holds integers (no decimals). The number of digits is limited only by the computer's memory."
   ]
  },
  {
   "cell_type": "code",
   "execution_count": null,
   "metadata": {},
   "outputs": [],
   "source": [
    "# A whole number without a decimal point is an int\n",
    "print(1000, -700)"
   ]
  },
  {
   "cell_type": "markdown",
   "metadata": {},
   "source": [
    "### Floating-point `float`\n",
    "\n",
    "Decimal numbers are stored as ***floating-point numbers***. Python uses 64-bits of memory for each float. Floats can represent numbers from 10<sup>–308</sup> to 10<sup>+308</sup> with about 16 decimal digits of precision.\n",
    "\n",
    "Avogadro's number (6.02 $\\times$ 10<sup>23</sup>) is written as `6.02e23` or `6.02E23`. The number after `e` or `E` is the power of 10 in scientific notation. "
   ]
  },
  {
   "cell_type": "code",
   "execution_count": null,
   "metadata": {},
   "outputs": [],
   "source": [
    "print( 6.02e23 )\n",
    "print( 6.02E+23 )\n",
    "print( 6.62e-34 )"
   ]
  },
  {
   "cell_type": "code",
   "execution_count": null,
   "metadata": {},
   "outputs": [],
   "source": [
    "# A whole number *with* a decimal point is a float\n",
    "print(1000.)"
   ]
  },
  {
   "cell_type": "markdown",
   "metadata": {},
   "source": [
    "### Complex `complex`\n",
    "\n",
    "Complex numbers are written as `3 + 2j` or `complex(3,2)` where 3 is the real part and 2 is the imaginary part. "
   ]
  },
  {
   "cell_type": "code",
   "execution_count": null,
   "metadata": {},
   "outputs": [],
   "source": [
    "print( 3 + 2j )\n",
    "print( complex(1.2,3.3) )"
   ]
  },
  {
   "cell_type": "markdown",
   "metadata": {},
   "source": [
    "### Other data types\n",
    "\n",
    "Other data types will be introduced later: list, tuple, dictionary, set, None"
   ]
  },
  {
   "cell_type": "markdown",
   "metadata": {},
   "source": [
    "### Determining the data type\n",
    "\n",
    "The `type()` function identifies the data type"
   ]
  },
  {
   "cell_type": "code",
   "execution_count": null,
   "metadata": {},
   "outputs": [],
   "source": [
    "type('Hello, World')"
   ]
  },
  {
   "cell_type": "code",
   "execution_count": null,
   "metadata": {},
   "outputs": [],
   "source": [
    "type(True)"
   ]
  },
  {
   "cell_type": "code",
   "execution_count": null,
   "metadata": {},
   "outputs": [],
   "source": [
    "type(1000)"
   ]
  },
  {
   "cell_type": "code",
   "execution_count": null,
   "metadata": {},
   "outputs": [],
   "source": [
    "type(3.1)"
   ]
  },
  {
   "cell_type": "code",
   "execution_count": null,
   "metadata": {},
   "outputs": [],
   "source": [
    "type(6.02e23)"
   ]
  },
  {
   "cell_type": "markdown",
   "metadata": {},
   "source": [
    "### Converting between types\n",
    "\n",
    "We can convert between these data types using `str()`, `int()`, and `float()`"
   ]
  },
  {
   "cell_type": "code",
   "execution_count": null,
   "metadata": {},
   "outputs": [],
   "source": [
    "float(1000)"
   ]
  },
  {
   "cell_type": "code",
   "execution_count": null,
   "metadata": {},
   "outputs": [],
   "source": [
    "int(3.1)"
   ]
  },
  {
   "cell_type": "code",
   "execution_count": null,
   "metadata": {},
   "outputs": [],
   "source": [
    "str(1000)"
   ]
  },
  {
   "cell_type": "code",
   "execution_count": null,
   "metadata": {},
   "outputs": [],
   "source": [
    "float('3.14159')"
   ]
  },
  {
   "cell_type": "code",
   "execution_count": null,
   "metadata": {},
   "outputs": [],
   "source": [
    "# Strings containing letters cannot be converted to float or int\n",
    "float('This will not work')"
   ]
  },
  {
   "cell_type": "markdown",
   "metadata": {},
   "source": [
    "## Math Operators\n",
    "\n",
    "Addition and subtraction: `+`, `-`"
   ]
  },
  {
   "cell_type": "code",
   "execution_count": null,
   "metadata": {},
   "outputs": [],
   "source": [
    "print(1+2)\n",
    "print(1-3.5)"
   ]
  },
  {
   "cell_type": "markdown",
   "metadata": {},
   "source": [
    "Multiplication and division: `*`, `/`"
   ]
  },
  {
   "cell_type": "code",
   "execution_count": null,
   "metadata": {},
   "outputs": [],
   "source": [
    "print( 2 * 3 )\n",
    "print( 3 / 2 )"
   ]
  },
  {
   "cell_type": "markdown",
   "metadata": {},
   "source": [
    "Power or exponentiation: `**`"
   ]
  },
  {
   "cell_type": "code",
   "execution_count": null,
   "metadata": {},
   "outputs": [],
   "source": [
    "print( 2**3 )\n",
    "print( 8**(1/3) )"
   ]
  },
  {
   "cell_type": "markdown",
   "metadata": {},
   "source": [
    "Floor division (whole number of multiples): `//`\n",
    "\n",
    "(For positive numbers, `x // y` is the integer part of `x / y`)"
   ]
  },
  {
   "cell_type": "code",
   "execution_count": null,
   "metadata": {},
   "outputs": [],
   "source": [
    "print(13//4)"
   ]
  },
  {
   "cell_type": "markdown",
   "metadata": {},
   "source": [
    "Modulo (remainder after floor division): `%`"
   ]
  },
  {
   "cell_type": "code",
   "execution_count": null,
   "metadata": {},
   "outputs": [],
   "source": [
    "print(13 % 4)"
   ]
  },
  {
   "cell_type": "markdown",
   "metadata": {},
   "source": [
    "Order of operations follows PEMDAS:\n",
    "1. Parentheses\n",
    "2. Exponents\n",
    "3. Multiplication & division, left to right\n",
    "4. Addition & subtraction\n",
    "\n",
    "Use parentheses to avoid confusion and mistakes.\n",
    "\n",
    "For example, the density of an ideal gas is $\\rho = \\frac{p}{R_d T}$\n",
    "\n",
    "Here are two correct Python expressions:\n",
    "* `density = p / ( Rd * T )`\n",
    "* `density = p / Rd / T`\n",
    "\n",
    "...and an incorrect Python expression:\n",
    "* `density = p / Rd*T `"
   ]
  },
  {
   "cell_type": "markdown",
   "metadata": {},
   "source": [
    "## Higher math functions: NumPy\n",
    "\n",
    "Python ***packages*** provide specialized functions that extend Python's capabilities.\n",
    "\n",
    "[***NumPy***](https://numpy.org/doc/stable/user/index.html#user) (Numerical Python) provides *many* high-performance mathematical functions."
   ]
  },
  {
   "cell_type": "code",
   "execution_count": null,
   "metadata": {},
   "outputs": [],
   "source": [
    "# Use the package called numpy and abbreviate it as np\n",
    "import numpy as np\n",
    "\n",
    "print( np.pi )\n",
    "print( np.sin( np.pi / 2 ) )\n",
    "print( np.exp( 1 ) )"
   ]
  },
  {
   "cell_type": "markdown",
   "metadata": {},
   "source": [
    "## Comparison Operators\n",
    "\n",
    "* `<` (less than)\n",
    "* `>` (greater than)\n",
    "* `<=` (less than or equal to)\n",
    "* `>=` (greater than or equal to)\n",
    "* `==` (equal to)\n",
    "* `!=` (not equal to)\n",
    "\n",
    "The result of any comparison is always `True` or `False`."
   ]
  },
  {
   "cell_type": "code",
   "execution_count": null,
   "metadata": {},
   "outputs": [],
   "source": [
    "x = 1\n",
    "y = 2\n",
    "print( x < y )\n",
    "print( x != y )"
   ]
  },
  {
   "cell_type": "code",
   "execution_count": null,
   "metadata": {},
   "outputs": [],
   "source": [
    "# Strings are compared in alphabetical order\n",
    "print( 'a' < 'b' )\n",
    "print( 'Apple' < 'Banana' )"
   ]
  },
  {
   "cell_type": "markdown",
   "metadata": {},
   "source": [
    "## Logical operators\n",
    "\n",
    "* `and` (boolean AND)\n",
    "* `or` (boolean OR)\n",
    "* `not` (boolean NOT)\n",
    "\n",
    "These enable multiple, complex comparisons"
   ]
  },
  {
   "cell_type": "code",
   "execution_count": null,
   "metadata": {},
   "outputs": [],
   "source": [
    "print( True or False )"
   ]
  },
  {
   "cell_type": "code",
   "execution_count": null,
   "metadata": {},
   "outputs": [],
   "source": [
    "print( not True )"
   ]
  },
  {
   "cell_type": "code",
   "execution_count": null,
   "metadata": {},
   "outputs": [],
   "source": [
    "print( not (9 == 9) )"
   ]
  },
  {
   "cell_type": "code",
   "execution_count": null,
   "metadata": {},
   "outputs": [],
   "source": [
    "# Temperature, Celsius\n",
    "T = 20\n",
    "# Water is liquid if the temperature is >0 C and <100 C\n",
    "print( (T > 0) and (T < 100) )"
   ]
  },
  {
   "cell_type": "markdown",
   "metadata": {},
   "source": [
    "## Getting `help`\n",
    "\n",
    "`help` and `?` provide information about Python functions"
   ]
  },
  {
   "cell_type": "code",
   "execution_count": null,
   "metadata": {},
   "outputs": [],
   "source": [
    "?float"
   ]
  },
  {
   "cell_type": "code",
   "execution_count": null,
   "metadata": {},
   "outputs": [],
   "source": [
    "help(print)"
   ]
  },
  {
   "cell_type": "markdown",
   "metadata": {},
   "source": [
    "## Functions\n",
    "\n",
    "***Functions*** take input, called ***parameters*** or ***arguments***, and do something with it. Functions usually ***return*** something as output, but not always.\n",
    "\n",
    "Here is a Python function for $f(x) = x^2$.\n"
   ]
  },
  {
   "cell_type": "code",
   "execution_count": null,
   "metadata": {},
   "outputs": [],
   "source": [
    "# Define the function\n",
    "def square(x):                  # \"square\" is the name of the function; \"x\" is the argument\n",
    "    '''Square the input x'''    # Docstring explains what the function does\n",
    "    return x**2                 # Output returned by the function"
   ]
  },
  {
   "cell_type": "code",
   "execution_count": null,
   "metadata": {},
   "outputs": [],
   "source": [
    "# Call the function\n",
    "print( square(3) )"
   ]
  },
  {
   "cell_type": "markdown",
   "metadata": {},
   "source": [
    "Exercise:\n",
    "\n",
    "1. Write a Python function for $f(x,y) = x^2 + y^3$. \n",
    "2. Call your function with inputs 2 for x and 3 for y. The result should be 31."
   ]
  },
  {
   "cell_type": "code",
   "execution_count": null,
   "metadata": {},
   "outputs": [],
   "source": [
    "# Write your code here"
   ]
  },
  {
   "cell_type": "markdown",
   "metadata": {},
   "source": [
    "## User input with `input()`\n",
    "\n",
    "The `input()` function takes input from a user when the program runs. \n",
    "\n",
    "`input()` returns a `str` that can be saved in a variable."
   ]
  },
  {
   "cell_type": "code",
   "execution_count": null,
   "metadata": {},
   "outputs": [],
   "source": [
    "# Ask user for a temperature\n",
    "TC = input('Enter a temperature in Celsius: ')\n",
    "\n",
    "# Display the temperature\n",
    "print('The temperature is ', TC, '°C' )\n",
    "\n",
    "type(TC)"
   ]
  },
  {
   "cell_type": "code",
   "execution_count": null,
   "metadata": {},
   "outputs": [],
   "source": [
    "# This cell won't work. Why?? \n",
    "# Hint: what data type is TC?\n",
    "TC = float(TC)\n",
    "\n",
    "# Convert Celsius -> Fahrenheit\n",
    "TF = 9/5 * TC + 32\n",
    "\n",
    "print('The temperature is ', TF, '°F')"
   ]
  },
  {
   "cell_type": "markdown",
   "metadata": {},
   "source": [
    "## Use `if` to make choices in a program\n",
    "\n",
    "The `if` statement executes code only when a condition is `True`. "
   ]
  },
  {
   "cell_type": "code",
   "execution_count": null,
   "metadata": {},
   "outputs": [],
   "source": [
    "# Ask user for temperature; convert input str -> float\n",
    "TC = float(input('Enter the temperature in Celsius: '))\n",
    "\n",
    "if TC < 0: \n",
    "    # Commands here execute *only* when the condition is True\n",
    "    # This code block *MUST* be indented\n",
    "    print('Brrr! It is cold!')"
   ]
  },
  {
   "cell_type": "markdown",
   "metadata": {},
   "source": [
    "Test multiple conditions with `if-elif-else`. "
   ]
  },
  {
   "cell_type": "code",
   "execution_count": null,
   "metadata": {},
   "outputs": [],
   "source": [
    "# Ask user for temperature; convert input str -> float\n",
    "TC = float(input('Enter the temperature in Celsius: '))\n",
    "print('You entered ', TC )\n",
    "\n",
    "# Test conditions\n",
    "if TC < 0: \n",
    "    print('Brrr! It is cold!') \n",
    "\n",
    "elif TC > 100:\n",
    "    print('Wow! That is hot!')\n",
    "\n",
    "elif TC > 50:\n",
    "    # Add as many elif statements as needed\n",
    "    print(\"Too hot for people, but water doesn't boil\")\n",
    "\n",
    "else:\n",
    "    # else is not required, but usually a good idea\n",
    "    # This will execute if *none* of the above conditions are met\n",
    "    print('The temperature is good for liquid water')"
   ]
  },
  {
   "cell_type": "markdown",
   "metadata": {},
   "source": [
    "Exercise:\n",
    "\n",
    "Write if-elif-else statements to classify the color of fruit. \n",
    "\n",
    "If fruit is 'apple', set a variable named `color` to 'red'. If the fruit is 'banana', set color to 'yellow'. If the fruit is anything else, set color to 'unknown'. "
   ]
  },
  {
   "cell_type": "code",
   "execution_count": null,
   "metadata": {},
   "outputs": [],
   "source": [
    "# Define a fruit (Don't change this)\n",
    "fruit = 'banana'\n",
    "\n",
    "# Write your if-elif-else code here\n",
    "\n",
    "\n",
    "# Print the fruit and color (Don't change this)\n",
    "print( fruit, color )"
   ]
  },
  {
   "cell_type": "markdown",
   "metadata": {},
   "source": [
    "## Multi-line commands\n",
    "\n",
    "Spreading a long command over multiple lines can make code easier to read. There are two methods."
   ]
  },
  {
   "cell_type": "code",
   "execution_count": null,
   "metadata": {},
   "outputs": [],
   "source": [
    "# Code within parentheses can spread over many lines\n",
    "a = 10\n",
    "print( a,\n",
    "    a**2,\n",
    "    a**3,\n",
    "    a**4 )"
   ]
  },
  {
   "cell_type": "code",
   "execution_count": null,
   "metadata": {},
   "outputs": [],
   "source": [
    "# Backslash means that the command continues on the next line\n",
    "a = 100\n",
    "b = a + a**2 + a**3 \\\n",
    "      + a**4 + a**5\n",
    "print(b)"
   ]
  },
  {
   "cell_type": "markdown",
   "metadata": {},
   "source": [
    "## Review Questions\n",
    "\n",
    "### Data types\n",
    "Name the Python data type for each of these expressions\n",
    "\n",
    "1. `'abc'`\n",
    "1. `-7836`\n",
    "1. `False`\n",
    "1. `1.786e-9`\n",
    "1. `10 > 3`\n",
    "1. `3e0`\n",
    "1. `-478.`\n",
    "1. `'200.15'`\n",
    "1. `'1/10/2021'`\n"
   ]
  },
  {
   "cell_type": "markdown",
   "metadata": {},
   "source": [
    "### Math translation\n",
    "\n",
    "Write Python code for the following mathematical expressions. (Assume that the following variables have already been defined: $a,b,x,y,z$) \n",
    "* $\\frac{a\\,x}{y\\,z}$\n",
    "* $(3\\times 10^8)x^2$\n",
    "* $ae^{x/2}$\n",
    "* $\\sin{2\\pi}$\n",
    "* $x(\\frac{y}{z})^{a/b}$ "
   ]
  },
  {
   "cell_type": "markdown",
   "metadata": {},
   "source": [
    "### Find the error\n",
    "\n",
    "Find an error in the following code\n",
    "\n",
    "```python\n",
    "print('My name is ', name)\n",
    "name = 'Alice'\n",
    "```"
   ]
  },
  {
   "cell_type": "markdown",
   "metadata": {},
   "source": [
    "### Find the error\n",
    "\n",
    "Find an error in the following code\n",
    "\n",
    "```python\n",
    "a = 2\n",
    " b = 3\n",
    "print(a+b)\n",
    "```"
   ]
  },
  {
   "cell_type": "markdown",
   "metadata": {},
   "source": [
    "### Find the error\n",
    "\n",
    "Find an error in the following code\n",
    "\n",
    "```\n",
    "# a = 10\n",
    "print('The variable is ', a )"
   ]
  },
  {
   "cell_type": "markdown",
   "metadata": {},
   "source": [
    "### Code snippet\n",
    "\n",
    "Write a minimal Python code that does the following. \n",
    "\n",
    "Test whether a variable named `x` equals 10. If it does, display \"x is 10!\". Otherwise, display \"x is not 10\"."
   ]
  },
  {
   "cell_type": "markdown",
   "metadata": {},
   "source": [
    "### Find the error\n",
    "\n",
    "Find an error in the following code\n",
    "\n",
    "```python\n",
    "a = 10\n",
    "if a > 1000:\n",
    "print('That is a big number')\n",
    "else:\n",
    "print('The number is less than 1000')\n",
    "```"
   ]
  },
  {
   "cell_type": "markdown",
   "metadata": {},
   "source": [
    "### Find the error\n",
    "\n",
    "Find an error in the following code\n",
    "\n",
    "```python\n",
    "if x = y:\n",
    "    print('x and y are equal')\n",
    "```"
   ]
  }
 ],
 "metadata": {
  "kernelspec": {
   "display_name": "Python 3 (ipykernel)",
   "language": "python",
   "name": "python3"
  },
  "language_info": {
   "codemirror_mode": {
    "name": "ipython",
    "version": 3
   },
   "file_extension": ".py",
   "mimetype": "text/x-python",
   "name": "python",
   "nbconvert_exporter": "python",
   "pygments_lexer": "ipython3",
   "version": "3.12.7"
  }
 },
 "nbformat": 4,
 "nbformat_minor": 4
}
