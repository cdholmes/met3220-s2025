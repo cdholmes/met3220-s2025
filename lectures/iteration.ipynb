{
 "cells": [
  {
   "cell_type": "markdown",
   "id": "945722c1-1c29-4048-af19-c661620182e7",
   "metadata": {},
   "source": [
    "# Iteration\n",
    "\n",
    "Computer programs often need to repeat some code multiple times. This is ***iteration***.\n",
    "\n",
    "## `for` loops\n",
    "\n",
    "***for*** loops perform repetitive tasks"
   ]
  },
  {
   "cell_type": "code",
   "execution_count": null,
   "id": "8f06bae1-30ee-4cb4-a531-6c1fd762ccfb",
   "metadata": {},
   "outputs": [],
   "source": [
    "for name in [\"Joe\",\"Zoe\",\"Brad\",\"Zuki\"]:\n",
    "    invite = \"Hi \" + name + \".  Please come to my party!\"\n",
    "    print(invite)"
   ]
  },
  {
   "attachments": {},
   "cell_type": "markdown",
   "id": "836b7f14-5d12-4388-8069-a904c1b6d2cc",
   "metadata": {},
   "source": [
    "Key things\n",
    "* `name` is the ***loop variable***. We could choose any other variable name\n",
    "* The ***loop body*** must be indented\n",
    "* On each ***iteration***, the loop variable value is updated to the next item in the list\n",
    "* The loop ends when there are no more items to process"
   ]
  },
  {
   "cell_type": "code",
   "execution_count": null,
   "id": "ece9672d-b558-4ae5-87fd-0a754f097856",
   "metadata": {},
   "outputs": [],
   "source": [
    "# We can iterate over the characters in a string\n",
    "for character in 'abc123':\n",
    "    print(character)"
   ]
  },
  {
   "cell_type": "code",
   "execution_count": null,
   "id": "b8179995-73c1-4c7f-9571-70eba93d9352",
   "metadata": {},
   "outputs": [],
   "source": [
    "# Iterating over numbers\n",
    "for x in [0,1,2,3,4]:\n",
    "    print(x)"
   ]
  },
  {
   "cell_type": "code",
   "execution_count": null,
   "id": "e1f0b2a5-b54a-4737-97f5-6458ca09e66a",
   "metadata": {},
   "outputs": [],
   "source": [
    "# range() is a convenient way to iterate over integers\n",
    "for x in range(5):\n",
    "    print(x)"
   ]
  },
  {
   "cell_type": "markdown",
   "id": "01137a5f-9334-407c-bbac-92d7d090eecf",
   "metadata": {},
   "source": [
    "`range(e)` iterates over first `e` integers, starting at 0, up to `e-1`.\n",
    "\n",
    "`range(b,e[,s])` iterates over integers from `b` (inclusive) to `e` (exclusive) with step size `s` (default s=1)\n",
    "\n",
    "`b`, `e`, `s` can be positive or negative integers"
   ]
  },
  {
   "cell_type": "code",
   "execution_count": null,
   "id": "4e977c30-b0cd-469a-9f5f-068876b2e036",
   "metadata": {},
   "outputs": [],
   "source": [
    "for x in range(5,10):\n",
    "    print(x)"
   ]
  },
  {
   "cell_type": "code",
   "execution_count": null,
   "id": "1ef48a0d-d87c-4a4f-85ad-4b373b895e4e",
   "metadata": {},
   "outputs": [],
   "source": [
    "for x in range(10,100,10):\n",
    "    print(x)"
   ]
  },
  {
   "cell_type": "code",
   "execution_count": null,
   "id": "62e87d3e-304d-41a5-ac15-bac8f839c2a2",
   "metadata": {},
   "outputs": [],
   "source": [
    "for x in range(5,0,-1):\n",
    "    print(x)"
   ]
  },
  {
   "cell_type": "markdown",
   "id": "edd12ace-f0b3-4e5b-aa16-0d1a725f089a",
   "metadata": {},
   "source": [
    "#### Exercise\n",
    "\n",
    "Write a `for` loop using `range()` that prints the following numbers: \n",
    "```python\n",
    "5 \n",
    "8 \n",
    "11 \n",
    "14 \n",
    "17\n",
    "```"
   ]
  },
  {
   "cell_type": "code",
   "execution_count": null,
   "id": "d2eefa36-0a1e-4335-92aa-2548cd19dd53",
   "metadata": {},
   "outputs": [],
   "source": [
    "# Write your code here"
   ]
  },
  {
   "cell_type": "markdown",
   "id": "71a55695-cad6-4cf5-ac1f-3d382e8f0309",
   "metadata": {},
   "source": [
    "## `while` loops\n",
    "\n",
    "***while*** loops repeat until an exit condition is met"
   ]
  },
  {
   "cell_type": "code",
   "execution_count": null,
   "id": "f81f1f38-eac8-411a-bc50-75db361be595",
   "metadata": {},
   "outputs": [],
   "source": [
    "# Compute the sum of integers less than n\n",
    "n = 4\n",
    "i = 0\n",
    "ss = 0\n",
    "\n",
    "while i <= n:\n",
    "    # Add to the sum\n",
    "    ss = ss + i\n",
    "\n",
    "    # Increase our counter\n",
    "    #i = i + 1\n",
    "    i += 1\n",
    "    \n",
    "print(s)"
   ]
  },
  {
   "cell_type": "markdown",
   "id": "875f38ae-715f-4880-b44c-6a42eb67f206",
   "metadata": {},
   "source": [
    "Recommendation: use `for` unless you have a good reason for `while`."
   ]
  },
  {
   "cell_type": "markdown",
   "id": "f7a37bb9-bac6-42f5-9d04-6913801010e6",
   "metadata": {},
   "source": [
    "#### Exercise\n",
    "\n",
    "Write a `while` loop that prints the following numbers. (Do not use `range()`)\n",
    "```python\n",
    "5 \n",
    "8 \n",
    "11 \n",
    "14 \n",
    "17\n",
    "```"
   ]
  },
  {
   "cell_type": "code",
   "execution_count": null,
   "id": "0da0ccbc-83e4-4a50-9f8d-f19cfbb31162",
   "metadata": {},
   "outputs": [],
   "source": [
    "# Write your code here"
   ]
  },
  {
   "cell_type": "markdown",
   "id": "197b8c0a-db9a-452b-8e96-39a66c1fb353",
   "metadata": {},
   "source": [
    "## `break` and `continue`\n",
    "\n",
    "The `break` statement immediately breaks out of the loop body. It works with `for` and `while`."
   ]
  },
  {
   "cell_type": "code",
   "execution_count": null,
   "id": "2fba46a1-64da-4a79-97ca-84de25988c94",
   "metadata": {},
   "outputs": [],
   "source": [
    "ss = 0\n",
    "\n",
    "# Compute the sum of items in a list, but *stop* when we encounter a string\n",
    "for x in [5,10,15,'cat',20,25]:\n",
    "    print(x)\n",
    "    \n",
    "    if type(x) is str:\n",
    "        print('found a string, breaking out of the iteration')\n",
    "        break\n",
    "        \n",
    "    ss += x\n",
    "print('sum =',ss)\n"
   ]
  },
  {
   "cell_type": "markdown",
   "id": "2eb8af92-8f42-412c-9d80-402f3ecce4a0",
   "metadata": {},
   "source": [
    "The `continue` statement skips to the next iteration, skipping the rest of the loop body"
   ]
  },
  {
   "cell_type": "code",
   "execution_count": null,
   "id": "97442518-38b8-476d-9048-fcbdcb0884da",
   "metadata": {},
   "outputs": [],
   "source": [
    "ss = 0\n",
    "\n",
    "# Compute the sum of items in a list, but *skip* any strings\n",
    "for x in [5,10,15,'cat',20,25]:\n",
    "    print(x)\n",
    "    \n",
    "    if type(x) is str:\n",
    "        print('found a string, continue to the next iteration')\n",
    "        continue\n",
    "        \n",
    "    ss += x\n",
    "print('sum =',ss)"
   ]
  },
  {
   "cell_type": "markdown",
   "id": "67473b9d-40e8-4f79-b53c-fe50d76d007e",
   "metadata": {},
   "source": [
    "#### Exercise\n",
    "\n",
    "Write a `for` loop that prints numbers from 0 to 10, but skips multiples of 3.\n",
    "\n",
    "Hint: `(i % 3) == 0` is `True` if `i` is a multiple of 3."
   ]
  },
  {
   "cell_type": "code",
   "execution_count": null,
   "id": "5455b5df-91f3-4e07-8f30-121962f6fc3d",
   "metadata": {},
   "outputs": [],
   "source": [
    "# Write your code here"
   ]
  },
  {
   "cell_type": "markdown",
   "id": "0e9e5596-6ef8-491d-8cd0-6278c1790a82",
   "metadata": {},
   "source": [
    "## Enumerating items in your loop\n",
    "\n",
    "Sometimes we want to track the iteration number as well as update the loop variable"
   ]
  },
  {
   "cell_type": "code",
   "execution_count": null,
   "id": "e221300c-8481-42ad-af2c-cbc0d43bb04a",
   "metadata": {},
   "outputs": [],
   "source": [
    "for i,name in enumerate( ['GFS','HRRR','NAM','RRFS'] ):\n",
    "    # i is the iteration number\n",
    "    # name is from the list\n",
    "    # Both i and name update each iteration\n",
    "    print( 'model number', i, 'is', name )"
   ]
  },
  {
   "cell_type": "markdown",
   "id": "3fef40ac-e3eb-4f5d-a97f-94bfc6d5a571",
   "metadata": {},
   "source": [
    "## Looping over two lists"
   ]
  },
  {
   "cell_type": "code",
   "execution_count": null,
   "id": "fb579537-995d-434b-9a68-2593bc055926",
   "metadata": {},
   "outputs": [],
   "source": [
    "# zip allows us to loop over two lists simultaneously\n",
    "# x is from range(6); y is from 'ABCDEFG'\n",
    "for x,y in zip( range(6), 'ABCDEFG' ):\n",
    "    print( x, y )"
   ]
  },
  {
   "cell_type": "markdown",
   "id": "3d247944-732b-4e49-a4b9-7b6912371cb1",
   "metadata": {},
   "source": [
    "## \"middle-exit\" `while` loop\n",
    "\n",
    "In some cases a loop should repeat idefinitely until a condition is met. This \"middle-exit\" loop is a case where `while` is better than `for`."
   ]
  },
  {
   "cell_type": "code",
   "execution_count": null,
   "id": "efb0c6f0-07ef-4876-9ae8-dc4dcafead23",
   "metadata": {},
   "outputs": [],
   "source": [
    "# Example code where while is more convenient than for\n",
    "while True:\n",
    "    value = int(input('Enter an odd number'))\n",
    "    if (value % 2) == 1:\n",
    "        break\n",
    "    else:\n",
    "        print('The value you entered is even. Try again')\n",
    "\n",
    "print('The value is ', value)"
   ]
  },
  {
   "cell_type": "code",
   "execution_count": null,
   "id": "e3aacc20-c5ae-4380-8e22-2d31e08c183a",
   "metadata": {},
   "outputs": [],
   "source": []
  }
 ],
 "metadata": {
  "kernelspec": {
   "display_name": "Python 3 (ipykernel)",
   "language": "python",
   "name": "python3"
  },
  "language_info": {
   "codemirror_mode": {
    "name": "ipython",
    "version": 3
   },
   "file_extension": ".py",
   "mimetype": "text/x-python",
   "name": "python",
   "nbconvert_exporter": "python",
   "pygments_lexer": "ipython3",
   "version": "3.12.7"
  }
 },
 "nbformat": 4,
 "nbformat_minor": 5
}
