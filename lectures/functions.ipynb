{
 "cells": [
  {
   "cell_type": "markdown",
   "metadata": {},
   "source": [
    "# Python Functions\n",
    "\n",
    "***Functions*** take input, called ***parameters*** or ***arguments***, and do something with it. Functions usually ***return*** something, but not always."
   ]
  },
  {
   "cell_type": "markdown",
   "metadata": {},
   "source": [
    "## Defining functions"
   ]
  },
  {
   "cell_type": "code",
   "execution_count": null,
   "metadata": {},
   "outputs": [],
   "source": [
    "# define a function\n",
    "def say_hello():\n",
    "    '''Return the word hello.'''    # Docstring\n",
    "    return 'Hello'"
   ]
  },
  {
   "cell_type": "code",
   "execution_count": null,
   "metadata": {},
   "outputs": [],
   "source": [
    "type(say_hello)"
   ]
  },
  {
   "cell_type": "code",
   "execution_count": null,
   "metadata": {},
   "outputs": [],
   "source": [
    "# Get help\n",
    "?say_hello"
   ]
  },
  {
   "cell_type": "code",
   "execution_count": null,
   "metadata": {},
   "outputs": [],
   "source": [
    "# Call the function\n",
    "say_hello()"
   ]
  },
  {
   "cell_type": "code",
   "execution_count": null,
   "metadata": {},
   "outputs": [],
   "source": [
    "# Assign the result to a variable\n",
    "result = say_hello()\n",
    "print(result)"
   ]
  },
  {
   "cell_type": "code",
   "execution_count": null,
   "metadata": {},
   "outputs": [],
   "source": [
    "# Define a function with an argument\n",
    "def say_hello_to(name):\n",
    "    '''Return a greeting to `name`'''\n",
    "    return 'Hello ' + name"
   ]
  },
  {
   "cell_type": "code",
   "execution_count": null,
   "metadata": {},
   "outputs": [],
   "source": [
    "# intended usage\n",
    "say_hello_to('Alice')"
   ]
  },
  {
   "cell_type": "code",
   "execution_count": null,
   "metadata": {},
   "outputs": [],
   "source": [
    "# unintended use\n",
    "say_hello_to(10)"
   ]
  },
  {
   "cell_type": "code",
   "execution_count": null,
   "metadata": {},
   "outputs": [],
   "source": [
    "# redefine the function\n",
    "def say_hello_to(name):\n",
    "    '''Return a greeting to `name`'''\n",
    "    return 'Hello ' + str(name)"
   ]
  },
  {
   "cell_type": "code",
   "execution_count": null,
   "metadata": {},
   "outputs": [],
   "source": [
    "say_hello_to(10)"
   ]
  },
  {
   "cell_type": "code",
   "execution_count": 2,
   "metadata": {},
   "outputs": [
    {
     "name": "stdout",
     "output_type": "stream",
     "text": [
      "3\n"
     ]
    }
   ],
   "source": [
    "# Functions can have multiple arguments\n",
    "def add(x, y):\n",
    "    '''Calculate the sum of `x` and `y`'''\n",
    "    return x + y\n",
    "\n",
    "print( add(1, 2) )"
   ]
  },
  {
   "cell_type": "code",
   "execution_count": null,
   "metadata": {},
   "outputs": [],
   "source": [
    "# Functions can return multiple items\n",
    "def square_and_cube(x):\n",
    "    '''Calculate the square and cube of `x`'''\n",
    "    return x**2, x**3\n",
    "\n",
    "result = square_and_cube(3)\n",
    "print(result)\n",
    "\n",
    "# We can split the result into it's parts\n",
    "x2, x3 = square_and_cube(3)\n",
    "print( x2, x3 )"
   ]
  },
  {
   "cell_type": "markdown",
   "metadata": {},
   "source": [
    "### Defining optional arguments\n"
   ]
  },
  {
   "cell_type": "code",
   "execution_count": null,
   "metadata": {},
   "outputs": [],
   "source": [
    "# Function with an optional argument and default value\n",
    "def say_hello_or_hola(name, spanish=False):     # spanish is an optional argument; if the user doesn't provide a value, the default will be False\n",
    "    '''Say hello in multiple languages.'''\n",
    "    if spanish:\n",
    "        greeting = 'Hola '\n",
    "    else:\n",
    "        greeting = 'Hello '\n",
    "    return greeting + str(name)"
   ]
  },
  {
   "cell_type": "code",
   "execution_count": null,
   "metadata": {},
   "outputs": [],
   "source": [
    "print(say_hello_or_hola('friend'))\n",
    "print(say_hello_or_hola('amiga', spanish=True))"
   ]
  },
  {
   "cell_type": "code",
   "execution_count": null,
   "metadata": {},
   "outputs": [],
   "source": [
    "# print() has optional arguments\n",
    "?print"
   ]
  },
  {
   "cell_type": "code",
   "execution_count": null,
   "metadata": {},
   "outputs": [],
   "source": [
    "# Defaults are used if arguments aren't used\n",
    "print(1,2,3,4)\n",
    "\n",
    "# Specify value for the optional arguments\n",
    "print(1,2,3,4, sep=',', end=' Done!')"
   ]
  },
  {
   "cell_type": "markdown",
   "metadata": {},
   "source": [
    "## Variable scope \n",
    "\n",
    "Functions can \"see\" variables defined outside the function, but outside code cannot see variables defined inside a function."
   ]
  },
  {
   "cell_type": "code",
   "execution_count": null,
   "metadata": {},
   "outputs": [],
   "source": [
    "x = 1\n",
    "\n",
    "def print_x():\n",
    "    # Variable x is defined outside the function, \n",
    "    # but still visible inside it\n",
    "    # However, it is usually better to explicitly pass arguments\n",
    "    print('inside x=',x)\n",
    "\n",
    "    # define a new variable\n",
    "    y = 2\n",
    "    print('inside y=',y)\n",
    "\n",
    "print('outside x=',x)\n",
    "print_x()\n",
    "print('outside x=',x)\n",
    "\n",
    "# Error! y is defined inside the function,\n",
    "#   but this line is outside, so y isn't defined here\n",
    "print('outside y=',y)"
   ]
  },
  {
   "cell_type": "code",
   "execution_count": null,
   "metadata": {},
   "outputs": [],
   "source": [
    "x = 1\n",
    "\n",
    "def print_x_v2():\n",
    "    # Change x; This only affects the value *inside* the function\n",
    "    x = 2\n",
    "    print('inside x=',x)\n",
    "    \n",
    "print('outside x=',x)\n",
    "print_x_v2()\n",
    "print('outside x=',x)"
   ]
  },
  {
   "cell_type": "markdown",
   "metadata": {},
   "source": [
    "## Passing arguments by value and reference\n",
    "\n",
    "For simple data types (boolean, integer, float, string), Python passes the *value* of arguments into a function. The outside variable *cannot* be changed from within the function.\n",
    "\n",
    "For collection data types (list, dictionary, tuple, array), Python passes a *reference* (or pointer) to the memory location where the variable is saved. The variable outside *can be changed*."
   ]
  },
  {
   "cell_type": "code",
   "execution_count": 9,
   "metadata": {},
   "outputs": [
    {
     "name": "stdout",
     "output_type": "stream",
     "text": [
      "float:  1\n",
      "string: 1\n",
      "list:   [1, 1, 1, 1]\n"
     ]
    }
   ],
   "source": [
    "def double_stuff(var):\n",
    "    '''Double the input; return nothing'''\n",
    "    var *= 2\n",
    "    \n",
    "f = 1\n",
    "l = [1,1]\n",
    "s = '1'\n",
    "\n",
    "double_stuff(f)\n",
    "double_stuff(s)\n",
    "double_stuff(l)\n",
    "\n",
    "print('float: ',f)\n",
    "print('string:',s)\n",
    "print('list:  ',l)"
   ]
  },
  {
   "cell_type": "code",
   "execution_count": 10,
   "metadata": {},
   "outputs": [
    {
     "name": "stdout",
     "output_type": "stream",
     "text": [
      "['surprise!', 1]\n"
     ]
    }
   ],
   "source": [
    "def edit_item(mylist):\n",
    "    '''Change item in a list'''\n",
    "    mylist[0] = 'surprise!'\n",
    "\n",
    "\n",
    "l = [1,1]\n",
    "edit_item(l)\n",
    "print(l)"
   ]
  },
  {
   "cell_type": "markdown",
   "metadata": {},
   "source": [
    "Tips to avoid confusion\n",
    "* avoid modifying the input variables within functions\n",
    "* pass *copies* of collection variables"
   ]
  },
  {
   "cell_type": "code",
   "execution_count": 12,
   "metadata": {},
   "outputs": [
    {
     "name": "stdout",
     "output_type": "stream",
     "text": [
      "[1, 1]\n"
     ]
    }
   ],
   "source": [
    "l = [1,1]\n",
    "# Pass a copy of the list, so the outside variable isn't changed\n",
    "edit_item(l.copy())\n",
    "# Another way to make a copy\n",
    "edit_item(l[:])\n",
    "print(l)"
   ]
  },
  {
   "cell_type": "markdown",
   "metadata": {},
   "source": [
    "## Guidelines for functions\n",
    "\n",
    "* Use functions to break large, complex tasks into small, reusable parts\n",
    "* If you repeat similar lines of code, you should probably define a function\n",
    "* **DRY**: \"Don't repeat yourself.\" Repetition is tedious and error prone. "
   ]
  },
  {
   "cell_type": "markdown",
   "metadata": {},
   "source": [
    "## Thorough Docstrings\n",
    "\n",
    "A complete doctring explains all of the input parameters and return values, including the data types of parameters and returns.  "
   ]
  },
  {
   "cell_type": "code",
   "execution_count": null,
   "metadata": {},
   "outputs": [],
   "source": [
    "# Docstrings explain what a function does\n",
    "def celsius_to_fahrenheit( TC ):\n",
    "    '''Convert temperature in Celsius to Fahrenheit\n",
    "    \n",
    "    Parameters\n",
    "    ----------\n",
    "    TC : int or float\n",
    "        temperature in Celsius\n",
    "\n",
    "    Returns\n",
    "    -------\n",
    "    float\n",
    "        temperature in Fahrenheit\n",
    "    '''\n",
    "    return 9/5 * TC + 32\n",
    "\n",
    "help(celsius_to_fahrenheit)"
   ]
  }
 ],
 "metadata": {
  "kernelspec": {
   "display_name": "Python 3 (ipykernel)",
   "language": "python",
   "name": "python3"
  },
  "language_info": {
   "codemirror_mode": {
    "name": "ipython",
    "version": 3
   },
   "file_extension": ".py",
   "mimetype": "text/x-python",
   "name": "python",
   "nbconvert_exporter": "python",
   "pygments_lexer": "ipython3",
   "version": "3.12.8"
  }
 },
 "nbformat": 4,
 "nbformat_minor": 4
}
